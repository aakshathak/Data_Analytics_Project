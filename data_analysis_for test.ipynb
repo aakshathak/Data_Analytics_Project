{
 "cells": [
  {
   "cell_type": "code",
   "execution_count": 1,
   "metadata": {},
   "outputs": [
    {
     "ename": "ModuleNotFoundError",
     "evalue": "No module named 'folium'",
     "output_type": "error",
     "traceback": [
      "\u001b[1;31m---------------------------------------------------------------------------\u001b[0m",
      "\u001b[1;31mModuleNotFoundError\u001b[0m                       Traceback (most recent call last)",
      "Cell \u001b[1;32mIn [1], line 6\u001b[0m\n\u001b[0;32m      4\u001b[0m \u001b[39mimport\u001b[39;00m \u001b[39mseaborn\u001b[39;00m \u001b[39mas\u001b[39;00m \u001b[39msns\u001b[39;00m\n\u001b[0;32m      5\u001b[0m \u001b[39mfrom\u001b[39;00m \u001b[39mdatetime\u001b[39;00m \u001b[39mimport\u001b[39;00m datetime\n\u001b[1;32m----> 6\u001b[0m \u001b[39mimport\u001b[39;00m \u001b[39mfolium\u001b[39;00m\n",
      "\u001b[1;31mModuleNotFoundError\u001b[0m: No module named 'folium'"
     ]
    }
   ],
   "source": [
    "import pandas as pd\n",
    "import numpy as np\n",
    "import matplotlib.pyplot as plt\n",
    "import seaborn as sns\n",
    "from datetime import datetime\n",
    "import folium\n",
    "#from sklearn.ensemble import GradientBoostingRegressor as GBR\n",
    "#from sklearn.metrics import mean_squared_error\n",
    "#from sklearn.model_selection import train_test_split"
   ]
  },
  {
   "cell_type": "code",
   "execution_count": 3,
   "metadata": {},
   "outputs": [],
   "source": [
    "raw_data=pd.read_csv(\"data/exam_data.csv\")"
   ]
  },
  {
   "cell_type": "code",
   "execution_count": 4,
   "metadata": {},
   "outputs": [
    {
     "data": {
      "text/html": [
       "<div>\n",
       "<style scoped>\n",
       "    .dataframe tbody tr th:only-of-type {\n",
       "        vertical-align: middle;\n",
       "    }\n",
       "\n",
       "    .dataframe tbody tr th {\n",
       "        vertical-align: top;\n",
       "    }\n",
       "\n",
       "    .dataframe thead th {\n",
       "        text-align: right;\n",
       "    }\n",
       "</style>\n",
       "<table border=\"1\" class=\"dataframe\">\n",
       "  <thead>\n",
       "    <tr style=\"text-align: right;\">\n",
       "      <th></th>\n",
       "      <th>Unnamed: 0</th>\n",
       "      <th>VendorID</th>\n",
       "      <th>tpep_pickup_datetime</th>\n",
       "      <th>tpep_dropoff_datetime</th>\n",
       "      <th>passenger_count</th>\n",
       "      <th>trip_distance</th>\n",
       "      <th>pickup_longitude</th>\n",
       "      <th>pickup_latitude</th>\n",
       "      <th>RatecodeID</th>\n",
       "      <th>store_and_fwd_flag</th>\n",
       "      <th>...</th>\n",
       "      <th>fare_amount</th>\n",
       "      <th>extra</th>\n",
       "      <th>mta_tax</th>\n",
       "      <th>tip_amount</th>\n",
       "      <th>tolls_amount</th>\n",
       "      <th>improvement_surcharge</th>\n",
       "      <th>total_amount</th>\n",
       "      <th>GoodTip</th>\n",
       "      <th>Extra</th>\n",
       "      <th>Cash</th>\n",
       "    </tr>\n",
       "  </thead>\n",
       "  <tbody>\n",
       "    <tr>\n",
       "      <th>0</th>\n",
       "      <td>1</td>\n",
       "      <td>1</td>\n",
       "      <td>2016-02-07 16:20:30</td>\n",
       "      <td>2016-02-07 16:25:32</td>\n",
       "      <td>1</td>\n",
       "      <td>0.70</td>\n",
       "      <td>-73.982292</td>\n",
       "      <td>40.768974</td>\n",
       "      <td>1</td>\n",
       "      <td>N</td>\n",
       "      <td>...</td>\n",
       "      <td>5.0</td>\n",
       "      <td>0.0</td>\n",
       "      <td>0.5</td>\n",
       "      <td>1.15</td>\n",
       "      <td>0.00</td>\n",
       "      <td>0.3</td>\n",
       "      <td>6.95</td>\n",
       "      <td>False</td>\n",
       "      <td>False</td>\n",
       "      <td>False</td>\n",
       "    </tr>\n",
       "    <tr>\n",
       "      <th>1</th>\n",
       "      <td>2</td>\n",
       "      <td>1</td>\n",
       "      <td>2016-02-19 20:51:07</td>\n",
       "      <td>2016-02-19 21:28:32</td>\n",
       "      <td>1</td>\n",
       "      <td>8.80</td>\n",
       "      <td>-73.864166</td>\n",
       "      <td>40.770058</td>\n",
       "      <td>1</td>\n",
       "      <td>N</td>\n",
       "      <td>...</td>\n",
       "      <td>33.5</td>\n",
       "      <td>0.5</td>\n",
       "      <td>0.5</td>\n",
       "      <td>7.00</td>\n",
       "      <td>5.54</td>\n",
       "      <td>0.3</td>\n",
       "      <td>47.34</td>\n",
       "      <td>True</td>\n",
       "      <td>True</td>\n",
       "      <td>False</td>\n",
       "    </tr>\n",
       "    <tr>\n",
       "      <th>2</th>\n",
       "      <td>3</td>\n",
       "      <td>2</td>\n",
       "      <td>2016-02-19 20:52:36</td>\n",
       "      <td>2016-02-19 21:28:59</td>\n",
       "      <td>6</td>\n",
       "      <td>19.26</td>\n",
       "      <td>-73.781998</td>\n",
       "      <td>40.644669</td>\n",
       "      <td>1</td>\n",
       "      <td>N</td>\n",
       "      <td>...</td>\n",
       "      <td>53.5</td>\n",
       "      <td>0.5</td>\n",
       "      <td>0.5</td>\n",
       "      <td>0.00</td>\n",
       "      <td>0.00</td>\n",
       "      <td>0.3</td>\n",
       "      <td>54.80</td>\n",
       "      <td>False</td>\n",
       "      <td>True</td>\n",
       "      <td>True</td>\n",
       "    </tr>\n",
       "    <tr>\n",
       "      <th>3</th>\n",
       "      <td>4</td>\n",
       "      <td>1</td>\n",
       "      <td>2016-02-19 20:54:24</td>\n",
       "      <td>2016-02-19 21:04:21</td>\n",
       "      <td>1</td>\n",
       "      <td>0.70</td>\n",
       "      <td>-73.982056</td>\n",
       "      <td>40.740215</td>\n",
       "      <td>1</td>\n",
       "      <td>N</td>\n",
       "      <td>...</td>\n",
       "      <td>7.5</td>\n",
       "      <td>0.5</td>\n",
       "      <td>0.5</td>\n",
       "      <td>0.00</td>\n",
       "      <td>0.00</td>\n",
       "      <td>0.3</td>\n",
       "      <td>8.80</td>\n",
       "      <td>False</td>\n",
       "      <td>True</td>\n",
       "      <td>True</td>\n",
       "    </tr>\n",
       "    <tr>\n",
       "      <th>4</th>\n",
       "      <td>5</td>\n",
       "      <td>2</td>\n",
       "      <td>2016-02-19 20:55:47</td>\n",
       "      <td>2016-02-19 21:01:12</td>\n",
       "      <td>2</td>\n",
       "      <td>0.46</td>\n",
       "      <td>-73.990967</td>\n",
       "      <td>40.734089</td>\n",
       "      <td>1</td>\n",
       "      <td>N</td>\n",
       "      <td>...</td>\n",
       "      <td>5.0</td>\n",
       "      <td>0.5</td>\n",
       "      <td>0.5</td>\n",
       "      <td>1.00</td>\n",
       "      <td>0.00</td>\n",
       "      <td>0.3</td>\n",
       "      <td>7.30</td>\n",
       "      <td>False</td>\n",
       "      <td>True</td>\n",
       "      <td>False</td>\n",
       "    </tr>\n",
       "    <tr>\n",
       "      <th>5</th>\n",
       "      <td>6</td>\n",
       "      <td>2</td>\n",
       "      <td>2016-02-19 20:56:03</td>\n",
       "      <td>2016-02-19 21:03:02</td>\n",
       "      <td>1</td>\n",
       "      <td>1.12</td>\n",
       "      <td>-73.982803</td>\n",
       "      <td>40.755821</td>\n",
       "      <td>1</td>\n",
       "      <td>N</td>\n",
       "      <td>...</td>\n",
       "      <td>6.5</td>\n",
       "      <td>0.5</td>\n",
       "      <td>0.5</td>\n",
       "      <td>0.00</td>\n",
       "      <td>0.00</td>\n",
       "      <td>0.3</td>\n",
       "      <td>7.80</td>\n",
       "      <td>False</td>\n",
       "      <td>True</td>\n",
       "      <td>True</td>\n",
       "    </tr>\n",
       "    <tr>\n",
       "      <th>6</th>\n",
       "      <td>7</td>\n",
       "      <td>2</td>\n",
       "      <td>2016-02-19 20:56:45</td>\n",
       "      <td>2016-02-19 21:03:35</td>\n",
       "      <td>2</td>\n",
       "      <td>0.97</td>\n",
       "      <td>-73.958939</td>\n",
       "      <td>40.780762</td>\n",
       "      <td>1</td>\n",
       "      <td>N</td>\n",
       "      <td>...</td>\n",
       "      <td>6.5</td>\n",
       "      <td>0.5</td>\n",
       "      <td>0.5</td>\n",
       "      <td>1.17</td>\n",
       "      <td>0.00</td>\n",
       "      <td>0.3</td>\n",
       "      <td>8.97</td>\n",
       "      <td>False</td>\n",
       "      <td>True</td>\n",
       "      <td>False</td>\n",
       "    </tr>\n",
       "    <tr>\n",
       "      <th>7</th>\n",
       "      <td>8</td>\n",
       "      <td>1</td>\n",
       "      <td>2016-02-19 20:57:07</td>\n",
       "      <td>2016-02-19 21:21:04</td>\n",
       "      <td>1</td>\n",
       "      <td>5.00</td>\n",
       "      <td>-73.991638</td>\n",
       "      <td>40.750259</td>\n",
       "      <td>1</td>\n",
       "      <td>N</td>\n",
       "      <td>...</td>\n",
       "      <td>19.5</td>\n",
       "      <td>0.5</td>\n",
       "      <td>0.5</td>\n",
       "      <td>3.00</td>\n",
       "      <td>5.54</td>\n",
       "      <td>0.3</td>\n",
       "      <td>29.34</td>\n",
       "      <td>True</td>\n",
       "      <td>True</td>\n",
       "      <td>False</td>\n",
       "    </tr>\n",
       "    <tr>\n",
       "      <th>8</th>\n",
       "      <td>9</td>\n",
       "      <td>1</td>\n",
       "      <td>2016-02-19 20:58:48</td>\n",
       "      <td>2016-02-19 21:03:30</td>\n",
       "      <td>1</td>\n",
       "      <td>1.30</td>\n",
       "      <td>-73.971024</td>\n",
       "      <td>40.764084</td>\n",
       "      <td>1</td>\n",
       "      <td>N</td>\n",
       "      <td>...</td>\n",
       "      <td>6.0</td>\n",
       "      <td>0.5</td>\n",
       "      <td>0.5</td>\n",
       "      <td>1.46</td>\n",
       "      <td>0.00</td>\n",
       "      <td>0.3</td>\n",
       "      <td>8.76</td>\n",
       "      <td>False</td>\n",
       "      <td>True</td>\n",
       "      <td>False</td>\n",
       "    </tr>\n",
       "    <tr>\n",
       "      <th>9</th>\n",
       "      <td>10</td>\n",
       "      <td>2</td>\n",
       "      <td>2016-02-19 20:59:18</td>\n",
       "      <td>2016-02-19 21:07:28</td>\n",
       "      <td>5</td>\n",
       "      <td>1.15</td>\n",
       "      <td>-73.997719</td>\n",
       "      <td>40.720989</td>\n",
       "      <td>1</td>\n",
       "      <td>N</td>\n",
       "      <td>...</td>\n",
       "      <td>7.0</td>\n",
       "      <td>0.5</td>\n",
       "      <td>0.5</td>\n",
       "      <td>1.66</td>\n",
       "      <td>0.00</td>\n",
       "      <td>0.3</td>\n",
       "      <td>9.96</td>\n",
       "      <td>False</td>\n",
       "      <td>True</td>\n",
       "      <td>False</td>\n",
       "    </tr>\n",
       "  </tbody>\n",
       "</table>\n",
       "<p>10 rows × 23 columns</p>\n",
       "</div>"
      ],
      "text/plain": [
       "   Unnamed: 0  VendorID tpep_pickup_datetime tpep_dropoff_datetime  \\\n",
       "0           1         1  2016-02-07 16:20:30   2016-02-07 16:25:32   \n",
       "1           2         1  2016-02-19 20:51:07   2016-02-19 21:28:32   \n",
       "2           3         2  2016-02-19 20:52:36   2016-02-19 21:28:59   \n",
       "3           4         1  2016-02-19 20:54:24   2016-02-19 21:04:21   \n",
       "4           5         2  2016-02-19 20:55:47   2016-02-19 21:01:12   \n",
       "5           6         2  2016-02-19 20:56:03   2016-02-19 21:03:02   \n",
       "6           7         2  2016-02-19 20:56:45   2016-02-19 21:03:35   \n",
       "7           8         1  2016-02-19 20:57:07   2016-02-19 21:21:04   \n",
       "8           9         1  2016-02-19 20:58:48   2016-02-19 21:03:30   \n",
       "9          10         2  2016-02-19 20:59:18   2016-02-19 21:07:28   \n",
       "\n",
       "   passenger_count  trip_distance  pickup_longitude  pickup_latitude  \\\n",
       "0                1           0.70        -73.982292        40.768974   \n",
       "1                1           8.80        -73.864166        40.770058   \n",
       "2                6          19.26        -73.781998        40.644669   \n",
       "3                1           0.70        -73.982056        40.740215   \n",
       "4                2           0.46        -73.990967        40.734089   \n",
       "5                1           1.12        -73.982803        40.755821   \n",
       "6                2           0.97        -73.958939        40.780762   \n",
       "7                1           5.00        -73.991638        40.750259   \n",
       "8                1           1.30        -73.971024        40.764084   \n",
       "9                5           1.15        -73.997719        40.720989   \n",
       "\n",
       "   RatecodeID store_and_fwd_flag  ...  fare_amount  extra  mta_tax  \\\n",
       "0           1                  N  ...          5.0    0.0      0.5   \n",
       "1           1                  N  ...         33.5    0.5      0.5   \n",
       "2           1                  N  ...         53.5    0.5      0.5   \n",
       "3           1                  N  ...          7.5    0.5      0.5   \n",
       "4           1                  N  ...          5.0    0.5      0.5   \n",
       "5           1                  N  ...          6.5    0.5      0.5   \n",
       "6           1                  N  ...          6.5    0.5      0.5   \n",
       "7           1                  N  ...         19.5    0.5      0.5   \n",
       "8           1                  N  ...          6.0    0.5      0.5   \n",
       "9           1                  N  ...          7.0    0.5      0.5   \n",
       "\n",
       "   tip_amount  tolls_amount  improvement_surcharge  total_amount  GoodTip  \\\n",
       "0        1.15          0.00                    0.3          6.95    False   \n",
       "1        7.00          5.54                    0.3         47.34     True   \n",
       "2        0.00          0.00                    0.3         54.80    False   \n",
       "3        0.00          0.00                    0.3          8.80    False   \n",
       "4        1.00          0.00                    0.3          7.30    False   \n",
       "5        0.00          0.00                    0.3          7.80    False   \n",
       "6        1.17          0.00                    0.3          8.97    False   \n",
       "7        3.00          5.54                    0.3         29.34     True   \n",
       "8        1.46          0.00                    0.3          8.76    False   \n",
       "9        1.66          0.00                    0.3          9.96    False   \n",
       "\n",
       "   Extra   Cash  \n",
       "0  False  False  \n",
       "1   True  False  \n",
       "2   True   True  \n",
       "3   True   True  \n",
       "4   True  False  \n",
       "5   True   True  \n",
       "6   True  False  \n",
       "7   True  False  \n",
       "8   True  False  \n",
       "9   True  False  \n",
       "\n",
       "[10 rows x 23 columns]"
      ]
     },
     "execution_count": 4,
     "metadata": {},
     "output_type": "execute_result"
    }
   ],
   "source": [
    "raw_data.head(10)"
   ]
  },
  {
   "cell_type": "code",
   "execution_count": 5,
   "metadata": {},
   "outputs": [
    {
     "data": {
      "text/plain": [
       "Unnamed: 0               0\n",
       "VendorID                 0\n",
       "tpep_pickup_datetime     0\n",
       "tpep_dropoff_datetime    0\n",
       "passenger_count          0\n",
       "trip_distance            0\n",
       "pickup_longitude         0\n",
       "pickup_latitude          0\n",
       "RatecodeID               0\n",
       "store_and_fwd_flag       0\n",
       "dropoff_longitude        0\n",
       "dropoff_latitude         0\n",
       "payment_type             0\n",
       "fare_amount              0\n",
       "extra                    0\n",
       "mta_tax                  0\n",
       "tip_amount               0\n",
       "tolls_amount             0\n",
       "improvement_surcharge    0\n",
       "total_amount             0\n",
       "GoodTip                  0\n",
       "Extra                    0\n",
       "Cash                     0\n",
       "dtype: int64"
      ]
     },
     "execution_count": 5,
     "metadata": {},
     "output_type": "execute_result"
    }
   ],
   "source": [
    "raw_data.isnull().sum()"
   ]
  },
  {
   "cell_type": "code",
   "execution_count": 6,
   "metadata": {},
   "outputs": [],
   "source": [
    "df = raw_data.drop(raw_data.columns[[0]], axis=1) "
   ]
  },
  {
   "cell_type": "code",
   "execution_count": 7,
   "metadata": {},
   "outputs": [
    {
     "data": {
      "text/html": [
       "<div>\n",
       "<style scoped>\n",
       "    .dataframe tbody tr th:only-of-type {\n",
       "        vertical-align: middle;\n",
       "    }\n",
       "\n",
       "    .dataframe tbody tr th {\n",
       "        vertical-align: top;\n",
       "    }\n",
       "\n",
       "    .dataframe thead th {\n",
       "        text-align: right;\n",
       "    }\n",
       "</style>\n",
       "<table border=\"1\" class=\"dataframe\">\n",
       "  <thead>\n",
       "    <tr style=\"text-align: right;\">\n",
       "      <th></th>\n",
       "      <th>VendorID</th>\n",
       "      <th>tpep_pickup_datetime</th>\n",
       "      <th>tpep_dropoff_datetime</th>\n",
       "      <th>passenger_count</th>\n",
       "      <th>trip_distance</th>\n",
       "      <th>pickup_longitude</th>\n",
       "      <th>pickup_latitude</th>\n",
       "      <th>RatecodeID</th>\n",
       "      <th>store_and_fwd_flag</th>\n",
       "      <th>dropoff_longitude</th>\n",
       "      <th>...</th>\n",
       "      <th>fare_amount</th>\n",
       "      <th>extra</th>\n",
       "      <th>mta_tax</th>\n",
       "      <th>tip_amount</th>\n",
       "      <th>tolls_amount</th>\n",
       "      <th>improvement_surcharge</th>\n",
       "      <th>total_amount</th>\n",
       "      <th>GoodTip</th>\n",
       "      <th>Extra</th>\n",
       "      <th>Cash</th>\n",
       "    </tr>\n",
       "  </thead>\n",
       "  <tbody>\n",
       "    <tr>\n",
       "      <th>0</th>\n",
       "      <td>1</td>\n",
       "      <td>2016-02-07 16:20:30</td>\n",
       "      <td>2016-02-07 16:25:32</td>\n",
       "      <td>1</td>\n",
       "      <td>0.70</td>\n",
       "      <td>-73.982292</td>\n",
       "      <td>40.768974</td>\n",
       "      <td>1</td>\n",
       "      <td>N</td>\n",
       "      <td>-73.973701</td>\n",
       "      <td>...</td>\n",
       "      <td>5.0</td>\n",
       "      <td>0.0</td>\n",
       "      <td>0.5</td>\n",
       "      <td>1.15</td>\n",
       "      <td>0.00</td>\n",
       "      <td>0.3</td>\n",
       "      <td>6.95</td>\n",
       "      <td>False</td>\n",
       "      <td>False</td>\n",
       "      <td>False</td>\n",
       "    </tr>\n",
       "    <tr>\n",
       "      <th>1</th>\n",
       "      <td>1</td>\n",
       "      <td>2016-02-19 20:51:07</td>\n",
       "      <td>2016-02-19 21:28:32</td>\n",
       "      <td>1</td>\n",
       "      <td>8.80</td>\n",
       "      <td>-73.864166</td>\n",
       "      <td>40.770058</td>\n",
       "      <td>1</td>\n",
       "      <td>N</td>\n",
       "      <td>-73.952034</td>\n",
       "      <td>...</td>\n",
       "      <td>33.5</td>\n",
       "      <td>0.5</td>\n",
       "      <td>0.5</td>\n",
       "      <td>7.00</td>\n",
       "      <td>5.54</td>\n",
       "      <td>0.3</td>\n",
       "      <td>47.34</td>\n",
       "      <td>True</td>\n",
       "      <td>True</td>\n",
       "      <td>False</td>\n",
       "    </tr>\n",
       "    <tr>\n",
       "      <th>2</th>\n",
       "      <td>2</td>\n",
       "      <td>2016-02-19 20:52:36</td>\n",
       "      <td>2016-02-19 21:28:59</td>\n",
       "      <td>6</td>\n",
       "      <td>19.26</td>\n",
       "      <td>-73.781998</td>\n",
       "      <td>40.644669</td>\n",
       "      <td>1</td>\n",
       "      <td>N</td>\n",
       "      <td>-73.977654</td>\n",
       "      <td>...</td>\n",
       "      <td>53.5</td>\n",
       "      <td>0.5</td>\n",
       "      <td>0.5</td>\n",
       "      <td>0.00</td>\n",
       "      <td>0.00</td>\n",
       "      <td>0.3</td>\n",
       "      <td>54.80</td>\n",
       "      <td>False</td>\n",
       "      <td>True</td>\n",
       "      <td>True</td>\n",
       "    </tr>\n",
       "    <tr>\n",
       "      <th>3</th>\n",
       "      <td>1</td>\n",
       "      <td>2016-02-19 20:54:24</td>\n",
       "      <td>2016-02-19 21:04:21</td>\n",
       "      <td>1</td>\n",
       "      <td>0.70</td>\n",
       "      <td>-73.982056</td>\n",
       "      <td>40.740215</td>\n",
       "      <td>1</td>\n",
       "      <td>N</td>\n",
       "      <td>-73.987534</td>\n",
       "      <td>...</td>\n",
       "      <td>7.5</td>\n",
       "      <td>0.5</td>\n",
       "      <td>0.5</td>\n",
       "      <td>0.00</td>\n",
       "      <td>0.00</td>\n",
       "      <td>0.3</td>\n",
       "      <td>8.80</td>\n",
       "      <td>False</td>\n",
       "      <td>True</td>\n",
       "      <td>True</td>\n",
       "    </tr>\n",
       "    <tr>\n",
       "      <th>4</th>\n",
       "      <td>2</td>\n",
       "      <td>2016-02-19 20:55:47</td>\n",
       "      <td>2016-02-19 21:01:12</td>\n",
       "      <td>2</td>\n",
       "      <td>0.46</td>\n",
       "      <td>-73.990967</td>\n",
       "      <td>40.734089</td>\n",
       "      <td>1</td>\n",
       "      <td>N</td>\n",
       "      <td>-73.986542</td>\n",
       "      <td>...</td>\n",
       "      <td>5.0</td>\n",
       "      <td>0.5</td>\n",
       "      <td>0.5</td>\n",
       "      <td>1.00</td>\n",
       "      <td>0.00</td>\n",
       "      <td>0.3</td>\n",
       "      <td>7.30</td>\n",
       "      <td>False</td>\n",
       "      <td>True</td>\n",
       "      <td>False</td>\n",
       "    </tr>\n",
       "    <tr>\n",
       "      <th>5</th>\n",
       "      <td>2</td>\n",
       "      <td>2016-02-19 20:56:03</td>\n",
       "      <td>2016-02-19 21:03:02</td>\n",
       "      <td>1</td>\n",
       "      <td>1.12</td>\n",
       "      <td>-73.982803</td>\n",
       "      <td>40.755821</td>\n",
       "      <td>1</td>\n",
       "      <td>N</td>\n",
       "      <td>-73.991325</td>\n",
       "      <td>...</td>\n",
       "      <td>6.5</td>\n",
       "      <td>0.5</td>\n",
       "      <td>0.5</td>\n",
       "      <td>0.00</td>\n",
       "      <td>0.00</td>\n",
       "      <td>0.3</td>\n",
       "      <td>7.80</td>\n",
       "      <td>False</td>\n",
       "      <td>True</td>\n",
       "      <td>True</td>\n",
       "    </tr>\n",
       "    <tr>\n",
       "      <th>6</th>\n",
       "      <td>2</td>\n",
       "      <td>2016-02-19 20:56:45</td>\n",
       "      <td>2016-02-19 21:03:35</td>\n",
       "      <td>2</td>\n",
       "      <td>0.97</td>\n",
       "      <td>-73.958939</td>\n",
       "      <td>40.780762</td>\n",
       "      <td>1</td>\n",
       "      <td>N</td>\n",
       "      <td>-73.945534</td>\n",
       "      <td>...</td>\n",
       "      <td>6.5</td>\n",
       "      <td>0.5</td>\n",
       "      <td>0.5</td>\n",
       "      <td>1.17</td>\n",
       "      <td>0.00</td>\n",
       "      <td>0.3</td>\n",
       "      <td>8.97</td>\n",
       "      <td>False</td>\n",
       "      <td>True</td>\n",
       "      <td>False</td>\n",
       "    </tr>\n",
       "    <tr>\n",
       "      <th>7</th>\n",
       "      <td>1</td>\n",
       "      <td>2016-02-19 20:57:07</td>\n",
       "      <td>2016-02-19 21:21:04</td>\n",
       "      <td>1</td>\n",
       "      <td>5.00</td>\n",
       "      <td>-73.991638</td>\n",
       "      <td>40.750259</td>\n",
       "      <td>1</td>\n",
       "      <td>N</td>\n",
       "      <td>-73.955513</td>\n",
       "      <td>...</td>\n",
       "      <td>19.5</td>\n",
       "      <td>0.5</td>\n",
       "      <td>0.5</td>\n",
       "      <td>3.00</td>\n",
       "      <td>5.54</td>\n",
       "      <td>0.3</td>\n",
       "      <td>29.34</td>\n",
       "      <td>True</td>\n",
       "      <td>True</td>\n",
       "      <td>False</td>\n",
       "    </tr>\n",
       "    <tr>\n",
       "      <th>8</th>\n",
       "      <td>1</td>\n",
       "      <td>2016-02-19 20:58:48</td>\n",
       "      <td>2016-02-19 21:03:30</td>\n",
       "      <td>1</td>\n",
       "      <td>1.30</td>\n",
       "      <td>-73.971024</td>\n",
       "      <td>40.764084</td>\n",
       "      <td>1</td>\n",
       "      <td>N</td>\n",
       "      <td>-73.957283</td>\n",
       "      <td>...</td>\n",
       "      <td>6.0</td>\n",
       "      <td>0.5</td>\n",
       "      <td>0.5</td>\n",
       "      <td>1.46</td>\n",
       "      <td>0.00</td>\n",
       "      <td>0.3</td>\n",
       "      <td>8.76</td>\n",
       "      <td>False</td>\n",
       "      <td>True</td>\n",
       "      <td>False</td>\n",
       "    </tr>\n",
       "    <tr>\n",
       "      <th>9</th>\n",
       "      <td>2</td>\n",
       "      <td>2016-02-19 20:59:18</td>\n",
       "      <td>2016-02-19 21:07:28</td>\n",
       "      <td>5</td>\n",
       "      <td>1.15</td>\n",
       "      <td>-73.997719</td>\n",
       "      <td>40.720989</td>\n",
       "      <td>1</td>\n",
       "      <td>N</td>\n",
       "      <td>-73.999161</td>\n",
       "      <td>...</td>\n",
       "      <td>7.0</td>\n",
       "      <td>0.5</td>\n",
       "      <td>0.5</td>\n",
       "      <td>1.66</td>\n",
       "      <td>0.00</td>\n",
       "      <td>0.3</td>\n",
       "      <td>9.96</td>\n",
       "      <td>False</td>\n",
       "      <td>True</td>\n",
       "      <td>False</td>\n",
       "    </tr>\n",
       "  </tbody>\n",
       "</table>\n",
       "<p>10 rows × 22 columns</p>\n",
       "</div>"
      ],
      "text/plain": [
       "   VendorID tpep_pickup_datetime tpep_dropoff_datetime  passenger_count  \\\n",
       "0         1  2016-02-07 16:20:30   2016-02-07 16:25:32                1   \n",
       "1         1  2016-02-19 20:51:07   2016-02-19 21:28:32                1   \n",
       "2         2  2016-02-19 20:52:36   2016-02-19 21:28:59                6   \n",
       "3         1  2016-02-19 20:54:24   2016-02-19 21:04:21                1   \n",
       "4         2  2016-02-19 20:55:47   2016-02-19 21:01:12                2   \n",
       "5         2  2016-02-19 20:56:03   2016-02-19 21:03:02                1   \n",
       "6         2  2016-02-19 20:56:45   2016-02-19 21:03:35                2   \n",
       "7         1  2016-02-19 20:57:07   2016-02-19 21:21:04                1   \n",
       "8         1  2016-02-19 20:58:48   2016-02-19 21:03:30                1   \n",
       "9         2  2016-02-19 20:59:18   2016-02-19 21:07:28                5   \n",
       "\n",
       "   trip_distance  pickup_longitude  pickup_latitude  RatecodeID  \\\n",
       "0           0.70        -73.982292        40.768974           1   \n",
       "1           8.80        -73.864166        40.770058           1   \n",
       "2          19.26        -73.781998        40.644669           1   \n",
       "3           0.70        -73.982056        40.740215           1   \n",
       "4           0.46        -73.990967        40.734089           1   \n",
       "5           1.12        -73.982803        40.755821           1   \n",
       "6           0.97        -73.958939        40.780762           1   \n",
       "7           5.00        -73.991638        40.750259           1   \n",
       "8           1.30        -73.971024        40.764084           1   \n",
       "9           1.15        -73.997719        40.720989           1   \n",
       "\n",
       "  store_and_fwd_flag  dropoff_longitude  ...  fare_amount  extra  mta_tax  \\\n",
       "0                  N         -73.973701  ...          5.0    0.0      0.5   \n",
       "1                  N         -73.952034  ...         33.5    0.5      0.5   \n",
       "2                  N         -73.977654  ...         53.5    0.5      0.5   \n",
       "3                  N         -73.987534  ...          7.5    0.5      0.5   \n",
       "4                  N         -73.986542  ...          5.0    0.5      0.5   \n",
       "5                  N         -73.991325  ...          6.5    0.5      0.5   \n",
       "6                  N         -73.945534  ...          6.5    0.5      0.5   \n",
       "7                  N         -73.955513  ...         19.5    0.5      0.5   \n",
       "8                  N         -73.957283  ...          6.0    0.5      0.5   \n",
       "9                  N         -73.999161  ...          7.0    0.5      0.5   \n",
       "\n",
       "   tip_amount  tolls_amount  improvement_surcharge  total_amount  GoodTip  \\\n",
       "0        1.15          0.00                    0.3          6.95    False   \n",
       "1        7.00          5.54                    0.3         47.34     True   \n",
       "2        0.00          0.00                    0.3         54.80    False   \n",
       "3        0.00          0.00                    0.3          8.80    False   \n",
       "4        1.00          0.00                    0.3          7.30    False   \n",
       "5        0.00          0.00                    0.3          7.80    False   \n",
       "6        1.17          0.00                    0.3          8.97    False   \n",
       "7        3.00          5.54                    0.3         29.34     True   \n",
       "8        1.46          0.00                    0.3          8.76    False   \n",
       "9        1.66          0.00                    0.3          9.96    False   \n",
       "\n",
       "   Extra   Cash  \n",
       "0  False  False  \n",
       "1   True  False  \n",
       "2   True   True  \n",
       "3   True   True  \n",
       "4   True  False  \n",
       "5   True   True  \n",
       "6   True  False  \n",
       "7   True  False  \n",
       "8   True  False  \n",
       "9   True  False  \n",
       "\n",
       "[10 rows x 22 columns]"
      ]
     },
     "execution_count": 7,
     "metadata": {},
     "output_type": "execute_result"
    }
   ],
   "source": [
    "df.head(10)"
   ]
  },
  {
   "cell_type": "code",
   "execution_count": 8,
   "metadata": {},
   "outputs": [
    {
     "name": "stdout",
     "output_type": "stream",
     "text": [
      "<class 'pandas.core.frame.DataFrame'>\n",
      "RangeIndex: 28454 entries, 0 to 28453\n",
      "Data columns (total 22 columns):\n",
      " #   Column                 Non-Null Count  Dtype  \n",
      "---  ------                 --------------  -----  \n",
      " 0   VendorID               28454 non-null  int64  \n",
      " 1   tpep_pickup_datetime   28454 non-null  object \n",
      " 2   tpep_dropoff_datetime  28454 non-null  object \n",
      " 3   passenger_count        28454 non-null  int64  \n",
      " 4   trip_distance          28454 non-null  float64\n",
      " 5   pickup_longitude       28454 non-null  float64\n",
      " 6   pickup_latitude        28454 non-null  float64\n",
      " 7   RatecodeID             28454 non-null  int64  \n",
      " 8   store_and_fwd_flag     28454 non-null  object \n",
      " 9   dropoff_longitude      28454 non-null  float64\n",
      " 10  dropoff_latitude       28454 non-null  float64\n",
      " 11  payment_type           28454 non-null  int64  \n",
      " 12  fare_amount            28454 non-null  float64\n",
      " 13  extra                  28454 non-null  float64\n",
      " 14  mta_tax                28454 non-null  float64\n",
      " 15  tip_amount             28454 non-null  float64\n",
      " 16  tolls_amount           28454 non-null  float64\n",
      " 17  improvement_surcharge  28454 non-null  float64\n",
      " 18  total_amount           28454 non-null  float64\n",
      " 19  GoodTip                28454 non-null  bool   \n",
      " 20  Extra                  28454 non-null  bool   \n",
      " 21  Cash                   28454 non-null  bool   \n",
      "dtypes: bool(3), float64(12), int64(4), object(3)\n",
      "memory usage: 4.2+ MB\n"
     ]
    }
   ],
   "source": [
    "df.info()"
   ]
  },
  {
   "cell_type": "code",
   "execution_count": 9,
   "metadata": {},
   "outputs": [
    {
     "data": {
      "text/html": [
       "<div>\n",
       "<style scoped>\n",
       "    .dataframe tbody tr th:only-of-type {\n",
       "        vertical-align: middle;\n",
       "    }\n",
       "\n",
       "    .dataframe tbody tr th {\n",
       "        vertical-align: top;\n",
       "    }\n",
       "\n",
       "    .dataframe thead th {\n",
       "        text-align: right;\n",
       "    }\n",
       "</style>\n",
       "<table border=\"1\" class=\"dataframe\">\n",
       "  <thead>\n",
       "    <tr style=\"text-align: right;\">\n",
       "      <th></th>\n",
       "      <th>VendorID</th>\n",
       "      <th>passenger_count</th>\n",
       "      <th>trip_distance</th>\n",
       "      <th>pickup_longitude</th>\n",
       "      <th>pickup_latitude</th>\n",
       "      <th>RatecodeID</th>\n",
       "      <th>dropoff_longitude</th>\n",
       "      <th>dropoff_latitude</th>\n",
       "      <th>payment_type</th>\n",
       "      <th>fare_amount</th>\n",
       "      <th>extra</th>\n",
       "      <th>mta_tax</th>\n",
       "      <th>tip_amount</th>\n",
       "      <th>tolls_amount</th>\n",
       "      <th>improvement_surcharge</th>\n",
       "      <th>total_amount</th>\n",
       "    </tr>\n",
       "  </thead>\n",
       "  <tbody>\n",
       "    <tr>\n",
       "      <th>count</th>\n",
       "      <td>28454.000000</td>\n",
       "      <td>28454.000000</td>\n",
       "      <td>28454.000000</td>\n",
       "      <td>28454.000000</td>\n",
       "      <td>28454.000000</td>\n",
       "      <td>28454.000000</td>\n",
       "      <td>28454.000000</td>\n",
       "      <td>28454.000000</td>\n",
       "      <td>28454.000000</td>\n",
       "      <td>28454.000000</td>\n",
       "      <td>28454.000000</td>\n",
       "      <td>28454.000000</td>\n",
       "      <td>28454.000000</td>\n",
       "      <td>28454.000000</td>\n",
       "      <td>28454.000000</td>\n",
       "      <td>28454.000000</td>\n",
       "    </tr>\n",
       "    <tr>\n",
       "      <th>mean</th>\n",
       "      <td>1.527061</td>\n",
       "      <td>1.641492</td>\n",
       "      <td>2.830239</td>\n",
       "      <td>-72.829545</td>\n",
       "      <td>40.119641</td>\n",
       "      <td>1.035285</td>\n",
       "      <td>-72.865533</td>\n",
       "      <td>40.140239</td>\n",
       "      <td>1.331201</td>\n",
       "      <td>12.346235</td>\n",
       "      <td>0.328688</td>\n",
       "      <td>0.497136</td>\n",
       "      <td>1.763209</td>\n",
       "      <td>0.280064</td>\n",
       "      <td>0.299631</td>\n",
       "      <td>15.514963</td>\n",
       "    </tr>\n",
       "    <tr>\n",
       "      <th>std</th>\n",
       "      <td>0.499276</td>\n",
       "      <td>1.293418</td>\n",
       "      <td>3.616985</td>\n",
       "      <td>9.142567</td>\n",
       "      <td>5.034007</td>\n",
       "      <td>0.278481</td>\n",
       "      <td>8.998636</td>\n",
       "      <td>4.954860</td>\n",
       "      <td>0.486227</td>\n",
       "      <td>11.721551</td>\n",
       "      <td>0.436922</td>\n",
       "      <td>0.040866</td>\n",
       "      <td>2.540054</td>\n",
       "      <td>1.351279</td>\n",
       "      <td>0.014334</td>\n",
       "      <td>13.992979</td>\n",
       "    </tr>\n",
       "    <tr>\n",
       "      <th>min</th>\n",
       "      <td>1.000000</td>\n",
       "      <td>1.000000</td>\n",
       "      <td>0.000000</td>\n",
       "      <td>-121.933220</td>\n",
       "      <td>0.000000</td>\n",
       "      <td>1.000000</td>\n",
       "      <td>-121.933342</td>\n",
       "      <td>0.000000</td>\n",
       "      <td>1.000000</td>\n",
       "      <td>-93.000000</td>\n",
       "      <td>-1.000000</td>\n",
       "      <td>-0.500000</td>\n",
       "      <td>-2.700000</td>\n",
       "      <td>0.000000</td>\n",
       "      <td>-0.300000</td>\n",
       "      <td>-93.300000</td>\n",
       "    </tr>\n",
       "    <tr>\n",
       "      <th>25%</th>\n",
       "      <td>1.000000</td>\n",
       "      <td>1.000000</td>\n",
       "      <td>1.000000</td>\n",
       "      <td>-73.991608</td>\n",
       "      <td>40.736386</td>\n",
       "      <td>1.000000</td>\n",
       "      <td>-73.991302</td>\n",
       "      <td>40.734540</td>\n",
       "      <td>1.000000</td>\n",
       "      <td>6.500000</td>\n",
       "      <td>0.000000</td>\n",
       "      <td>0.500000</td>\n",
       "      <td>0.000000</td>\n",
       "      <td>0.000000</td>\n",
       "      <td>0.300000</td>\n",
       "      <td>8.300000</td>\n",
       "    </tr>\n",
       "    <tr>\n",
       "      <th>50%</th>\n",
       "      <td>2.000000</td>\n",
       "      <td>1.000000</td>\n",
       "      <td>1.660000</td>\n",
       "      <td>-73.981567</td>\n",
       "      <td>40.753605</td>\n",
       "      <td>1.000000</td>\n",
       "      <td>-73.979576</td>\n",
       "      <td>40.753632</td>\n",
       "      <td>1.000000</td>\n",
       "      <td>9.000000</td>\n",
       "      <td>0.000000</td>\n",
       "      <td>0.500000</td>\n",
       "      <td>1.350000</td>\n",
       "      <td>0.000000</td>\n",
       "      <td>0.300000</td>\n",
       "      <td>11.750000</td>\n",
       "    </tr>\n",
       "    <tr>\n",
       "      <th>75%</th>\n",
       "      <td>2.000000</td>\n",
       "      <td>2.000000</td>\n",
       "      <td>3.070000</td>\n",
       "      <td>-73.966593</td>\n",
       "      <td>40.767979</td>\n",
       "      <td>1.000000</td>\n",
       "      <td>-73.962364</td>\n",
       "      <td>40.769409</td>\n",
       "      <td>2.000000</td>\n",
       "      <td>14.000000</td>\n",
       "      <td>0.500000</td>\n",
       "      <td>0.500000</td>\n",
       "      <td>2.335000</td>\n",
       "      <td>0.000000</td>\n",
       "      <td>0.300000</td>\n",
       "      <td>17.160000</td>\n",
       "    </tr>\n",
       "    <tr>\n",
       "      <th>max</th>\n",
       "      <td>2.000000</td>\n",
       "      <td>6.000000</td>\n",
       "      <td>182.200000</td>\n",
       "      <td>0.000000</td>\n",
       "      <td>40.934280</td>\n",
       "      <td>5.000000</td>\n",
       "      <td>0.000000</td>\n",
       "      <td>41.034912</td>\n",
       "      <td>4.000000</td>\n",
       "      <td>780.000000</td>\n",
       "      <td>4.500000</td>\n",
       "      <td>0.500000</td>\n",
       "      <td>149.700000</td>\n",
       "      <td>22.500000</td>\n",
       "      <td>0.300000</td>\n",
       "      <td>780.300000</td>\n",
       "    </tr>\n",
       "  </tbody>\n",
       "</table>\n",
       "</div>"
      ],
      "text/plain": [
       "           VendorID  passenger_count  trip_distance  pickup_longitude  \\\n",
       "count  28454.000000     28454.000000   28454.000000      28454.000000   \n",
       "mean       1.527061         1.641492       2.830239        -72.829545   \n",
       "std        0.499276         1.293418       3.616985          9.142567   \n",
       "min        1.000000         1.000000       0.000000       -121.933220   \n",
       "25%        1.000000         1.000000       1.000000        -73.991608   \n",
       "50%        2.000000         1.000000       1.660000        -73.981567   \n",
       "75%        2.000000         2.000000       3.070000        -73.966593   \n",
       "max        2.000000         6.000000     182.200000          0.000000   \n",
       "\n",
       "       pickup_latitude    RatecodeID  dropoff_longitude  dropoff_latitude  \\\n",
       "count     28454.000000  28454.000000       28454.000000      28454.000000   \n",
       "mean         40.119641      1.035285         -72.865533         40.140239   \n",
       "std           5.034007      0.278481           8.998636          4.954860   \n",
       "min           0.000000      1.000000        -121.933342          0.000000   \n",
       "25%          40.736386      1.000000         -73.991302         40.734540   \n",
       "50%          40.753605      1.000000         -73.979576         40.753632   \n",
       "75%          40.767979      1.000000         -73.962364         40.769409   \n",
       "max          40.934280      5.000000           0.000000         41.034912   \n",
       "\n",
       "       payment_type   fare_amount         extra       mta_tax    tip_amount  \\\n",
       "count  28454.000000  28454.000000  28454.000000  28454.000000  28454.000000   \n",
       "mean       1.331201     12.346235      0.328688      0.497136      1.763209   \n",
       "std        0.486227     11.721551      0.436922      0.040866      2.540054   \n",
       "min        1.000000    -93.000000     -1.000000     -0.500000     -2.700000   \n",
       "25%        1.000000      6.500000      0.000000      0.500000      0.000000   \n",
       "50%        1.000000      9.000000      0.000000      0.500000      1.350000   \n",
       "75%        2.000000     14.000000      0.500000      0.500000      2.335000   \n",
       "max        4.000000    780.000000      4.500000      0.500000    149.700000   \n",
       "\n",
       "       tolls_amount  improvement_surcharge  total_amount  \n",
       "count  28454.000000           28454.000000  28454.000000  \n",
       "mean       0.280064               0.299631     15.514963  \n",
       "std        1.351279               0.014334     13.992979  \n",
       "min        0.000000              -0.300000    -93.300000  \n",
       "25%        0.000000               0.300000      8.300000  \n",
       "50%        0.000000               0.300000     11.750000  \n",
       "75%        0.000000               0.300000     17.160000  \n",
       "max       22.500000               0.300000    780.300000  "
      ]
     },
     "execution_count": 9,
     "metadata": {},
     "output_type": "execute_result"
    }
   ],
   "source": [
    "df.describe()"
   ]
  },
  {
   "cell_type": "code",
   "execution_count": 10,
   "metadata": {},
   "outputs": [],
   "source": [
    "df = df[((df['fare_amount']>-93) & df['tip_amount'] >-2.7)]"
   ]
  },
  {
   "cell_type": "code",
   "execution_count": 11,
   "metadata": {},
   "outputs": [
    {
     "data": {
      "text/plain": [
       "VendorID                     2\n",
       "tpep_pickup_datetime     28242\n",
       "tpep_dropoff_datetime    28253\n",
       "passenger_count              6\n",
       "trip_distance             1568\n",
       "pickup_longitude          9240\n",
       "pickup_latitude          15406\n",
       "RatecodeID                   5\n",
       "store_and_fwd_flag           2\n",
       "dropoff_longitude        10299\n",
       "dropoff_latitude         16709\n",
       "payment_type                 4\n",
       "fare_amount                186\n",
       "extra                        7\n",
       "mta_tax                      3\n",
       "tip_amount                 692\n",
       "tolls_amount                35\n",
       "improvement_surcharge        3\n",
       "total_amount              1289\n",
       "GoodTip                      2\n",
       "Extra                        2\n",
       "Cash                         2\n",
       "dtype: int64"
      ]
     },
     "execution_count": 11,
     "metadata": {},
     "output_type": "execute_result"
    }
   ],
   "source": [
    "\n",
    "df.nunique()"
   ]
  },
  {
   "cell_type": "code",
   "execution_count": 12,
   "metadata": {},
   "outputs": [
    {
     "data": {
      "text/plain": [
       "Text(0.5, 1.0, 'Distribution of Tip amount')"
      ]
     },
     "execution_count": 12,
     "metadata": {},
     "output_type": "execute_result"
    },
    {
     "data": {
      "image/png": "[encoded data removed]",
      "text/plain": [
       "<Figure size 432x288 with 1 Axes>"
      ]
     },
     "metadata": {
      "needs_background": "light"
     },
     "output_type": "display_data"
    }
   ],
   "source": [
    "sns.kdeplot(df['tip_amount']).set_title(\"Distribution of Tip amount\")"
   ]
  },
  {
   "cell_type": "code",
   "execution_count": 13,
   "metadata": {},
   "outputs": [
    {
     "data": {
      "text/plain": [
       "<AxesSubplot:xlabel='tip_amount', ylabel='Count'>"
      ]
     },
     "execution_count": 13,
     "metadata": {},
     "output_type": "execute_result"
    },
    {
     "data": {
      "image/png": "[encoded data removed]",
      "text/plain": [
       "<Figure size 432x288 with 1 Axes>"
      ]
     },
     "metadata": {
      "needs_background": "light"
     },
     "output_type": "display_data"
    }
   ],
   "source": [
    "sns.histplot(df['tip_amount'],kde=False,bins=20)\n",
    "\n",
    "#plt.figure(figsize=(8,5))\n",
    "#sns.kdeplot(df['tip_amount']).set_title(\"Distribution of Tip amount\")"
   ]
  },
  {
   "cell_type": "code",
   "execution_count": 14,
   "metadata": {},
   "outputs": [
    {
     "name": "stderr",
     "output_type": "stream",
     "text": [
      "c:\\Users\\admin\\anaconda3\\lib\\site-packages\\seaborn\\_decorators.py:36: FutureWarning: Pass the following variable as a keyword arg: x. From version 0.12, the only valid positional argument will be `data`, and passing other arguments without an explicit keyword will result in an error or misinterpretation.\n",
      "  warnings.warn(\n"
     ]
    },
    {
     "data": {
      "text/plain": [
       "<AxesSubplot:xlabel='tip_amount'>"
      ]
     },
     "execution_count": 14,
     "metadata": {},
     "output_type": "execute_result"
    },
    {
     "data": {
      "image/png": "[encoded data removed]",
      "text/plain": [
       "<Figure size 432x288 with 1 Axes>"
      ]
     },
     "metadata": {
      "needs_background": "light"
     },
     "output_type": "display_data"
    }
   ],
   "source": [
    "sns.boxplot(df['tip_amount'])"
   ]
  },
  {
   "cell_type": "code",
   "execution_count": 15,
   "metadata": {},
   "outputs": [
    {
     "data": {
      "text/plain": [
       "22042    149.70\n",
       "17466     85.00\n",
       "24886     49.62\n",
       "14073     40.00\n",
       "13139     37.00\n",
       "          ...  \n",
       "9650       0.00\n",
       "9647       0.00\n",
       "9645       0.00\n",
       "9643       0.00\n",
       "18414     -2.70\n",
       "Name: tip_amount, Length: 28454, dtype: float64"
      ]
     },
     "execution_count": 15,
     "metadata": {},
     "output_type": "execute_result"
    }
   ],
   "source": [
    "df['tip_amount'].sort_values(ascending=False)"
   ]
  },
  {
   "cell_type": "markdown",
   "metadata": {},
   "source": [
    "# count of 0 in tip amount"
   ]
  },
  {
   "cell_type": "code",
   "execution_count": 16,
   "metadata": {},
   "outputs": [
    {
     "data": {
      "text/plain": [
       "9971"
      ]
     },
     "execution_count": 16,
     "metadata": {},
     "output_type": "execute_result"
    }
   ],
   "source": [
    "df['tip_amount'].value_counts()[0]"
   ]
  },
  {
   "cell_type": "code",
   "execution_count": 17,
   "metadata": {},
   "outputs": [],
   "source": [
    "df.drop(df[df['tip_amount'] == -2.7].index, inplace = True)"
   ]
  },
  {
   "cell_type": "code",
   "execution_count": 18,
   "metadata": {},
   "outputs": [
    {
     "data": {
      "text/html": [
       "<div>\n",
       "<style scoped>\n",
       "    .dataframe tbody tr th:only-of-type {\n",
       "        vertical-align: middle;\n",
       "    }\n",
       "\n",
       "    .dataframe tbody tr th {\n",
       "        vertical-align: top;\n",
       "    }\n",
       "\n",
       "    .dataframe thead th {\n",
       "        text-align: right;\n",
       "    }\n",
       "</style>\n",
       "<table border=\"1\" class=\"dataframe\">\n",
       "  <thead>\n",
       "    <tr style=\"text-align: right;\">\n",
       "      <th></th>\n",
       "      <th>VendorID</th>\n",
       "      <th>passenger_count</th>\n",
       "      <th>trip_distance</th>\n",
       "      <th>pickup_longitude</th>\n",
       "      <th>pickup_latitude</th>\n",
       "      <th>RatecodeID</th>\n",
       "      <th>dropoff_longitude</th>\n",
       "      <th>dropoff_latitude</th>\n",
       "      <th>payment_type</th>\n",
       "      <th>fare_amount</th>\n",
       "      <th>extra</th>\n",
       "      <th>mta_tax</th>\n",
       "      <th>tip_amount</th>\n",
       "      <th>tolls_amount</th>\n",
       "      <th>improvement_surcharge</th>\n",
       "      <th>total_amount</th>\n",
       "    </tr>\n",
       "  </thead>\n",
       "  <tbody>\n",
       "    <tr>\n",
       "      <th>count</th>\n",
       "      <td>28453.000000</td>\n",
       "      <td>28453.000000</td>\n",
       "      <td>28453.000000</td>\n",
       "      <td>28453.000000</td>\n",
       "      <td>28453.000000</td>\n",
       "      <td>28453.000000</td>\n",
       "      <td>28453.000000</td>\n",
       "      <td>28453.000000</td>\n",
       "      <td>28453.000000</td>\n",
       "      <td>28453.000000</td>\n",
       "      <td>28453.000000</td>\n",
       "      <td>28453.000000</td>\n",
       "      <td>28453.000000</td>\n",
       "      <td>28453.000000</td>\n",
       "      <td>28453.000000</td>\n",
       "      <td>28453.000000</td>\n",
       "    </tr>\n",
       "    <tr>\n",
       "      <th>mean</th>\n",
       "      <td>1.527045</td>\n",
       "      <td>1.641514</td>\n",
       "      <td>2.830338</td>\n",
       "      <td>-72.832105</td>\n",
       "      <td>40.121051</td>\n",
       "      <td>1.035286</td>\n",
       "      <td>-72.868094</td>\n",
       "      <td>40.141650</td>\n",
       "      <td>1.331143</td>\n",
       "      <td>12.346757</td>\n",
       "      <td>0.328700</td>\n",
       "      <td>0.497171</td>\n",
       "      <td>1.763366</td>\n",
       "      <td>0.280073</td>\n",
       "      <td>0.299652</td>\n",
       "      <td>15.515719</td>\n",
       "    </tr>\n",
       "    <tr>\n",
       "      <th>std</th>\n",
       "      <td>0.499277</td>\n",
       "      <td>1.293435</td>\n",
       "      <td>3.617009</td>\n",
       "      <td>9.132526</td>\n",
       "      <td>5.028473</td>\n",
       "      <td>0.278486</td>\n",
       "      <td>8.988419</td>\n",
       "      <td>4.949229</td>\n",
       "      <td>0.486135</td>\n",
       "      <td>11.721427</td>\n",
       "      <td>0.436925</td>\n",
       "      <td>0.040437</td>\n",
       "      <td>2.539961</td>\n",
       "      <td>1.351301</td>\n",
       "      <td>0.013887</td>\n",
       "      <td>13.992643</td>\n",
       "    </tr>\n",
       "    <tr>\n",
       "      <th>min</th>\n",
       "      <td>1.000000</td>\n",
       "      <td>1.000000</td>\n",
       "      <td>0.000000</td>\n",
       "      <td>-121.933220</td>\n",
       "      <td>0.000000</td>\n",
       "      <td>1.000000</td>\n",
       "      <td>-121.933342</td>\n",
       "      <td>0.000000</td>\n",
       "      <td>1.000000</td>\n",
       "      <td>-93.000000</td>\n",
       "      <td>-1.000000</td>\n",
       "      <td>-0.500000</td>\n",
       "      <td>0.000000</td>\n",
       "      <td>0.000000</td>\n",
       "      <td>-0.300000</td>\n",
       "      <td>-93.300000</td>\n",
       "    </tr>\n",
       "    <tr>\n",
       "      <th>25%</th>\n",
       "      <td>1.000000</td>\n",
       "      <td>1.000000</td>\n",
       "      <td>1.000000</td>\n",
       "      <td>-73.991608</td>\n",
       "      <td>40.736389</td>\n",
       "      <td>1.000000</td>\n",
       "      <td>-73.991302</td>\n",
       "      <td>40.734543</td>\n",
       "      <td>1.000000</td>\n",
       "      <td>6.500000</td>\n",
       "      <td>0.000000</td>\n",
       "      <td>0.500000</td>\n",
       "      <td>0.000000</td>\n",
       "      <td>0.000000</td>\n",
       "      <td>0.300000</td>\n",
       "      <td>8.300000</td>\n",
       "    </tr>\n",
       "    <tr>\n",
       "      <th>50%</th>\n",
       "      <td>2.000000</td>\n",
       "      <td>1.000000</td>\n",
       "      <td>1.660000</td>\n",
       "      <td>-73.981567</td>\n",
       "      <td>40.753609</td>\n",
       "      <td>1.000000</td>\n",
       "      <td>-73.979576</td>\n",
       "      <td>40.753632</td>\n",
       "      <td>1.000000</td>\n",
       "      <td>9.000000</td>\n",
       "      <td>0.000000</td>\n",
       "      <td>0.500000</td>\n",
       "      <td>1.350000</td>\n",
       "      <td>0.000000</td>\n",
       "      <td>0.300000</td>\n",
       "      <td>11.750000</td>\n",
       "    </tr>\n",
       "    <tr>\n",
       "      <th>75%</th>\n",
       "      <td>2.000000</td>\n",
       "      <td>2.000000</td>\n",
       "      <td>3.070000</td>\n",
       "      <td>-73.966599</td>\n",
       "      <td>40.767979</td>\n",
       "      <td>1.000000</td>\n",
       "      <td>-73.962364</td>\n",
       "      <td>40.769409</td>\n",
       "      <td>2.000000</td>\n",
       "      <td>14.000000</td>\n",
       "      <td>0.500000</td>\n",
       "      <td>0.500000</td>\n",
       "      <td>2.340000</td>\n",
       "      <td>0.000000</td>\n",
       "      <td>0.300000</td>\n",
       "      <td>17.160000</td>\n",
       "    </tr>\n",
       "    <tr>\n",
       "      <th>max</th>\n",
       "      <td>2.000000</td>\n",
       "      <td>6.000000</td>\n",
       "      <td>182.200000</td>\n",
       "      <td>0.000000</td>\n",
       "      <td>40.934280</td>\n",
       "      <td>5.000000</td>\n",
       "      <td>0.000000</td>\n",
       "      <td>41.034912</td>\n",
       "      <td>4.000000</td>\n",
       "      <td>780.000000</td>\n",
       "      <td>4.500000</td>\n",
       "      <td>0.500000</td>\n",
       "      <td>149.700000</td>\n",
       "      <td>22.500000</td>\n",
       "      <td>0.300000</td>\n",
       "      <td>780.300000</td>\n",
       "    </tr>\n",
       "  </tbody>\n",
       "</table>\n",
       "</div>"
      ],
      "text/plain": [
       "           VendorID  passenger_count  trip_distance  pickup_longitude  \\\n",
       "count  28453.000000     28453.000000   28453.000000      28453.000000   \n",
       "mean       1.527045         1.641514       2.830338        -72.832105   \n",
       "std        0.499277         1.293435       3.617009          9.132526   \n",
       "min        1.000000         1.000000       0.000000       -121.933220   \n",
       "25%        1.000000         1.000000       1.000000        -73.991608   \n",
       "50%        2.000000         1.000000       1.660000        -73.981567   \n",
       "75%        2.000000         2.000000       3.070000        -73.966599   \n",
       "max        2.000000         6.000000     182.200000          0.000000   \n",
       "\n",
       "       pickup_latitude    RatecodeID  dropoff_longitude  dropoff_latitude  \\\n",
       "count     28453.000000  28453.000000       28453.000000      28453.000000   \n",
       "mean         40.121051      1.035286         -72.868094         40.141650   \n",
       "std           5.028473      0.278486           8.988419          4.949229   \n",
       "min           0.000000      1.000000        -121.933342          0.000000   \n",
       "25%          40.736389      1.000000         -73.991302         40.734543   \n",
       "50%          40.753609      1.000000         -73.979576         40.753632   \n",
       "75%          40.767979      1.000000         -73.962364         40.769409   \n",
       "max          40.934280      5.000000           0.000000         41.034912   \n",
       "\n",
       "       payment_type   fare_amount         extra       mta_tax    tip_amount  \\\n",
       "count  28453.000000  28453.000000  28453.000000  28453.000000  28453.000000   \n",
       "mean       1.331143     12.346757      0.328700      0.497171      1.763366   \n",
       "std        0.486135     11.721427      0.436925      0.040437      2.539961   \n",
       "min        1.000000    -93.000000     -1.000000     -0.500000      0.000000   \n",
       "25%        1.000000      6.500000      0.000000      0.500000      0.000000   \n",
       "50%        1.000000      9.000000      0.000000      0.500000      1.350000   \n",
       "75%        2.000000     14.000000      0.500000      0.500000      2.340000   \n",
       "max        4.000000    780.000000      4.500000      0.500000    149.700000   \n",
       "\n",
       "       tolls_amount  improvement_surcharge  total_amount  \n",
       "count  28453.000000           28453.000000  28453.000000  \n",
       "mean       0.280073               0.299652     15.515719  \n",
       "std        1.351301               0.013887     13.992643  \n",
       "min        0.000000              -0.300000    -93.300000  \n",
       "25%        0.000000               0.300000      8.300000  \n",
       "50%        0.000000               0.300000     11.750000  \n",
       "75%        0.000000               0.300000     17.160000  \n",
       "max       22.500000               0.300000    780.300000  "
      ]
     },
     "execution_count": 18,
     "metadata": {},
     "output_type": "execute_result"
    }
   ],
   "source": [
    "df.describe()"
   ]
  },
  {
   "cell_type": "code",
   "execution_count": 19,
   "metadata": {},
   "outputs": [
    {
     "name": "stderr",
     "output_type": "stream",
     "text": [
      "<ipython-input-19-5c2e8b85fd4a>:4: RuntimeWarning: divide by zero encountered in log\n",
      "  sns.kdeplot(np.log(df['tip_amount'].values)).set_title(\"Distribution of tip amount (log scale)\")\n",
      "c:\\Users\\admin\\anaconda3\\lib\\site-packages\\seaborn\\distributions.py:306: UserWarning: Dataset has 0 variance; skipping density estimate.\n",
      "  warnings.warn(msg, UserWarning)\n"
     ]
    },
    {
     "data": {
      "text/plain": [
       "Text(0.5, 1.0, 'Distribution of tip amount (log scale)')"
      ]
     },
     "execution_count": 19,
     "metadata": {},
     "output_type": "execute_result"
    },
    {
     "data": {
      "image/png": "[encoded data removed]",
      "text/plain": [
       "<Figure size 576x360 with 1 Axes>"
      ]
     },
     "metadata": {
      "needs_background": "light"
     },
     "output_type": "display_data"
    }
   ],
   "source": [
    "#sns.histplot(df['tip_amount'],kde=False,bins=20)\n",
    "#plt.figure(figsize=(8,5))\n",
    "plt.figure(figsize=(8,5))\n",
    "sns.kdeplot(np.log(df['tip_amount'].values)).set_title(\"Distribution of tip amount (log scale)\")"
   ]
  },
  {
   "cell_type": "code",
   "execution_count": 20,
   "metadata": {},
   "outputs": [
    {
     "data": {
      "text/plain": [
       "<AxesSubplot:xlabel='VendorID', ylabel='count'>"
      ]
     },
     "execution_count": 20,
     "metadata": {},
     "output_type": "execute_result"
    },
    {
     "data": {
      "image/png": "[encoded data removed]",
      "text/plain": [
       "<Figure size 432x288 with 1 Axes>"
      ]
     },
     "metadata": {
      "needs_background": "light"
     },
     "output_type": "display_data"
    }
   ],
   "source": [
    "sns.countplot(x='VendorID',data=df)"
   ]
  },
  {
   "cell_type": "code",
   "execution_count": 21,
   "metadata": {},
   "outputs": [
    {
     "data": {
      "text/plain": [
       "<AxesSubplot:xlabel='RatecodeID', ylabel='count'>"
      ]
     },
     "execution_count": 21,
     "metadata": {},
     "output_type": "execute_result"
    },
    {
     "data": {
      "image/png": "[encoded data removed]",
      "text/plain": [
       "<Figure size 432x288 with 1 Axes>"
      ]
     },
     "metadata": {
      "needs_background": "light"
     },
     "output_type": "display_data"
    }
   ],
   "source": [
    "sns.countplot(x='RatecodeID',data=df)"
   ]
  },
  {
   "cell_type": "code",
   "execution_count": 22,
   "metadata": {},
   "outputs": [
    {
     "data": {
      "text/plain": [
       "1    20335\n",
       "2     4150\n",
       "5     1418\n",
       "3     1091\n",
       "6      936\n",
       "4      523\n",
       "Name: passenger_count, dtype: int64"
      ]
     },
     "execution_count": 22,
     "metadata": {},
     "output_type": "execute_result"
    }
   ],
   "source": [
    "df.passenger_count.value_counts()"
   ]
  },
  {
   "cell_type": "code",
   "execution_count": 23,
   "metadata": {},
   "outputs": [
    {
     "data": {
      "text/plain": [
       "<AxesSubplot:xlabel='passenger_count', ylabel='count'>"
      ]
     },
     "execution_count": 23,
     "metadata": {},
     "output_type": "execute_result"
    },
    {
     "data": {
      "image/png": "[encoded data removed]",
      "text/plain": [
       "<Figure size 432x288 with 1 Axes>"
      ]
     },
     "metadata": {
      "needs_background": "light"
     },
     "output_type": "display_data"
    }
   ],
   "source": [
    "sns.countplot(x='passenger_count',data=df)"
   ]
  },
  {
   "cell_type": "code",
   "execution_count": 24,
   "metadata": {},
   "outputs": [
    {
     "data": {
      "text/plain": [
       "<AxesSubplot:xlabel='store_and_fwd_flag', ylabel='count'>"
      ]
     },
     "execution_count": 24,
     "metadata": {},
     "output_type": "execute_result"
    },
    {
     "data": {
      "image/png": "[encoded data removed]",
      "text/plain": [
       "<Figure size 432x288 with 1 Axes>"
      ]
     },
     "metadata": {
      "needs_background": "light"
     },
     "output_type": "display_data"
    }
   ],
   "source": [
    "sns.countplot(x='store_and_fwd_flag',data=df)"
   ]
  },
  {
   "cell_type": "code",
   "execution_count": 25,
   "metadata": {},
   "outputs": [
    {
     "data": {
      "text/plain": [
       "N    0.992725\n",
       "Y    0.007275\n",
       "Name: store_and_fwd_flag, dtype: float64"
      ]
     },
     "execution_count": 25,
     "metadata": {},
     "output_type": "execute_result"
    }
   ],
   "source": [
    "df['store_and_fwd_flag'].value_counts(normalize=True)"
   ]
  },
  {
   "cell_type": "code",
   "execution_count": 26,
   "metadata": {},
   "outputs": [
    {
     "data": {
      "text/plain": [
       "<AxesSubplot:xlabel='payment_type', ylabel='count'>"
      ]
     },
     "execution_count": 26,
     "metadata": {},
     "output_type": "execute_result"
    },
    {
     "data": {
      "image/png": "[encoded data removed]",
      "text/plain": [
       "<Figure size 432x288 with 1 Axes>"
      ]
     },
     "metadata": {
      "needs_background": "light"
     },
     "output_type": "display_data"
    }
   ],
   "source": [
    "sns.countplot(x='payment_type',data=df)"
   ]
  },
  {
   "cell_type": "code",
   "execution_count": 27,
   "metadata": {},
   "outputs": [
    {
     "name": "stdout",
     "output_type": "stream",
     "text": [
      "Longitude Boundary in data\n"
     ]
    },
    {
     "data": {
      "text/plain": [
       "(-121.933219909668, 0.0)"
      ]
     },
     "execution_count": 27,
     "metadata": {},
     "output_type": "execute_result"
    }
   ],
   "source": [
    "print(\"Longitude Boundary in data\")\n",
    "min(df.pickup_longitude.min(), df.pickup_longitude.min()),max(df.pickup_longitude.max(), df.pickup_longitude.max())"
   ]
  },
  {
   "cell_type": "code",
   "execution_count": 28,
   "metadata": {},
   "outputs": [
    {
     "name": "stdout",
     "output_type": "stream",
     "text": [
      "Latitude Boundary in data\n"
     ]
    },
    {
     "data": {
      "text/plain": [
       "(0.0, 40.9342803955078)"
      ]
     },
     "execution_count": 28,
     "metadata": {},
     "output_type": "execute_result"
    }
   ],
   "source": [
    "print(\"Latitude Boundary in data\")\n",
    "min(df.pickup_latitude.min(), df.pickup_latitude.min()),max(df.pickup_latitude.max(), df.pickup_latitude.max())"
   ]
  },
  {
   "cell_type": "code",
   "execution_count": 29,
   "metadata": {},
   "outputs": [
    {
     "name": "stdout",
     "output_type": "stream",
     "text": [
      "Longitude Boundary in data\n"
     ]
    },
    {
     "data": {
      "text/plain": [
       "(-121.93334197998, 0.0)"
      ]
     },
     "execution_count": 29,
     "metadata": {},
     "output_type": "execute_result"
    }
   ],
   "source": [
    "print(\"Longitude Boundary in data\")\n",
    "min(df.dropoff_longitude.min(), df.dropoff_longitude.min()),max(df.dropoff_longitude.max(), df.dropoff_longitude.max())\n",
    "\n"
   ]
  },
  {
   "cell_type": "code",
   "execution_count": 30,
   "metadata": {},
   "outputs": [
    {
     "name": "stdout",
     "output_type": "stream",
     "text": [
      "Latitude Boundary in data\n"
     ]
    },
    {
     "data": {
      "text/plain": [
       "(0.0, 41.034912109375)"
      ]
     },
     "execution_count": 30,
     "metadata": {},
     "output_type": "execute_result"
    }
   ],
   "source": [
    "print(\"Latitude Boundary in data\")\n",
    "min(df.dropoff_latitude.min(), df.dropoff_latitude.min()),max(df.dropoff_latitude.max(), df.dropoff_latitude.max())"
   ]
  },
  {
   "cell_type": "markdown",
   "metadata": {},
   "source": [
    "# removing 0s in longitute and latitude"
   ]
  },
  {
   "cell_type": "code",
   "execution_count": 31,
   "metadata": {},
   "outputs": [],
   "source": [
    "nonzero_mean = df[ df.pickup_longitude != 0 ].mean()\n",
    "nonzero_mean = df[ df.pickup_latitude != 0 ].mean()\n"
   ]
  },
  {
   "cell_type": "code",
   "execution_count": 32,
   "metadata": {},
   "outputs": [],
   "source": [
    "df.loc[ df.pickup_longitude == 0, \"pickup_longitude\" ] = nonzero_mean['pickup_longitude']\n",
    "df.loc[ df.pickup_latitude == 0, \"pickup_latitude\" ] = nonzero_mean['pickup_latitude']"
   ]
  },
  {
   "cell_type": "code",
   "execution_count": 33,
   "metadata": {},
   "outputs": [
    {
     "data": {
      "text/plain": [
       "(37.3893966674805, 40.9342803955078)"
      ]
     },
     "execution_count": 33,
     "metadata": {},
     "output_type": "execute_result"
    },
    {
     "data": {
      "text/plain": [
       "<Figure size 1440x3600 with 0 Axes>"
      ]
     },
     "metadata": {},
     "output_type": "display_data"
    },
    {
     "data": {
      "image/png": "[encoded data removed]",
      "text/plain": [
       "<Figure size 432x288 with 1 Axes>"
      ]
     },
     "metadata": {
      "needs_background": "light"
     },
     "output_type": "display_data"
    }
   ],
   "source": [
    "plt.figure(figsize=(20,50))\n",
    "city_long_border = (-121.933219909668, -73.57177734375)\n",
    "city_lat_border = (37.3893966674805, 40.9342803955078)\n",
    "df.plot(kind='scatter', x='pickup_longitude', y='pickup_latitude',\n",
    "                color='black', \n",
    "                s=.02, alpha=.6)\n",
    "plt.title(\"Dropoffs\")\n",
    "\n",
    "plt.ylim(city_long_border)\n",
    "plt.xlim(city_lat_border)"
   ]
  },
  {
   "cell_type": "code",
   "execution_count": 34,
   "metadata": {},
   "outputs": [
    {
     "data": {
      "text/plain": [
       "(0.0, 41.034912109375)"
      ]
     },
     "execution_count": 34,
     "metadata": {},
     "output_type": "execute_result"
    },
    {
     "data": {
      "text/plain": [
       "<Figure size 1440x3600 with 0 Axes>"
      ]
     },
     "metadata": {},
     "output_type": "display_data"
    },
    {
     "data": {
      "image/png": "[encoded data removed]",
      "text/plain": [
       "<Figure size 432x288 with 1 Axes>"
      ]
     },
     "metadata": {
      "needs_background": "light"
     },
     "output_type": "display_data"
    }
   ],
   "source": [
    "plt.figure(figsize=(20,50))\n",
    "city_long_border = (-121.93334197998, 0.0)\n",
    "city_lat_border = (0.0, 41.034912109375)\n",
    "df.plot(kind='scatter', x='pickup_longitude', y='pickup_latitude',\n",
    "                color='black', \n",
    "                s=.02, alpha=.6)\n",
    "plt.title(\"Dropoffs\")\n",
    "\n",
    "plt.ylim(city_long_border)\n",
    "plt.xlim(city_lat_border)"
   ]
  },
  {
   "cell_type": "code",
   "execution_count": null,
   "metadata": {},
   "outputs": [],
   "source": []
  },
  {
   "cell_type": "code",
   "execution_count": null,
   "metadata": {},
   "outputs": [],
   "source": []
  },
  {
   "cell_type": "code",
   "execution_count": 35,
   "metadata": {},
   "outputs": [
    {
     "data": {
      "text/plain": [
       "0.90     677\n",
       "1.00     663\n",
       "0.70     623\n",
       "0.80     621\n",
       "1.10     619\n",
       "        ... \n",
       "14.04      1\n",
       "17.46      1\n",
       "11.67      1\n",
       "13.25      1\n",
       "34.13      1\n",
       "Name: trip_distance, Length: 1568, dtype: int64"
      ]
     },
     "execution_count": 35,
     "metadata": {},
     "output_type": "execute_result"
    }
   ],
   "source": [
    "df['trip_distance'].value_counts()\n",
    "#df['trip_distance'].value_counts()[0] "
   ]
  },
  {
   "cell_type": "code",
   "execution_count": 36,
   "metadata": {},
   "outputs": [],
   "source": [
    "df['tpep_pickup_datetime']=pd.to_datetime(df['tpep_pickup_datetime'])\n",
    "df['tpep_dropoff_datetime']=pd.to_datetime(df['tpep_dropoff_datetime'])"
   ]
  },
  {
   "cell_type": "code",
   "execution_count": 37,
   "metadata": {},
   "outputs": [],
   "source": [
    "df['pickup_day']=df['tpep_pickup_datetime'].dt.day_name()\n",
    "df['dropoff_day']=df['tpep_dropoff_datetime'].dt.day_name()\n",
    "\n",
    "df['pickup_day_no']=df['tpep_pickup_datetime'].dt.weekday\n",
    "df['dropoff_day_no']=df['tpep_dropoff_datetime'].dt.weekday\n",
    "\n",
    "df['pickup_hour']=df['tpep_pickup_datetime'].dt.hour\n",
    "df['dropoff_hour']=df['tpep_dropoff_datetime'].dt.hour\n",
    "\n",
    "df['pickup_min']=df['tpep_pickup_datetime'].dt.minute\n",
    "df['dropoff_min']=df['tpep_dropoff_datetime'].dt.minute\n",
    "\n",
    "df['pickup_min']=df['tpep_pickup_datetime'].dt.second\n",
    "df['dropoff_min']=df['tpep_dropoff_datetime'].dt.second\n",
    "\n",
    "df['pickup_month']=df['tpep_pickup_datetime'].dt.month\n",
    "df['dropoff_month']=df['tpep_dropoff_datetime'].dt.month"
   ]
  },
  {
   "cell_type": "code",
   "execution_count": 38,
   "metadata": {},
   "outputs": [],
   "source": [
    "def time_of_day(x):\n",
    "    if x in range(6,12):\n",
    "        return 'Morning'\n",
    "    elif x in range(12,16):\n",
    "        return 'Afternoon'\n",
    "    elif x in range(16,22):\n",
    "        return 'Evening'\n",
    "    else:\n",
    "        return 'Late night'"
   ]
  },
  {
   "cell_type": "code",
   "execution_count": 39,
   "metadata": {},
   "outputs": [],
   "source": [
    "df['pickup_timeofday']=df['pickup_hour'].apply(time_of_day)\n",
    "df['dropoff_timeofday']=df['dropoff_hour'].apply(time_of_day)"
   ]
  },
  {
   "cell_type": "code",
   "execution_count": 40,
   "metadata": {},
   "outputs": [
    {
     "data": {
      "image/png": "[encoded data removed]",
      "text/plain": [
       "<Figure size 1440x360 with 2 Axes>"
      ]
     },
     "metadata": {
      "needs_background": "light"
     },
     "output_type": "display_data"
    }
   ],
   "source": [
    "figure,(ax1,ax2)=plt.subplots(ncols=2,figsize=(20,5))\n",
    "\n",
    "ax1.set_title('Pickup Days')\n",
    "ax=sns.countplot(x=\"pickup_day\",data=df,ax=ax1)\n",
    "\n",
    "ax2.set_title('Dropoff Days')\n",
    "ax=sns.countplot(x=\"dropoff_day\",data=df,ax=ax2)"
   ]
  },
  {
   "cell_type": "code",
   "execution_count": 41,
   "metadata": {},
   "outputs": [
    {
     "data": {
      "image/png": "[encoded data removed]",
      "text/plain": [
       "<Figure size 1440x360 with 2 Axes>"
      ]
     },
     "metadata": {
      "needs_background": "light"
     },
     "output_type": "display_data"
    }
   ],
   "source": [
    "figure,(ax9,ax10)=plt.subplots(ncols=2,figsize=(20,5))\n",
    "\n",
    "ax9.set_title('Pickup Days')\n",
    "ax=sns.countplot(x=\"pickup_hour\",data=df,ax=ax9)\n",
    "\n",
    "ax10.set_title('Dropoff Days')\n",
    "ax=sns.countplot(x=\"dropoff_hour\",data=df,ax=ax10)"
   ]
  },
  {
   "cell_type": "code",
   "execution_count": 42,
   "metadata": {},
   "outputs": [
    {
     "data": {
      "image/png": "[encoded data removed]",
      "text/plain": [
       "<Figure size 1440x360 with 2 Axes>"
      ]
     },
     "metadata": {
      "needs_background": "light"
     },
     "output_type": "display_data"
    }
   ],
   "source": [
    "\n",
    "\n",
    "figure,(ax3,ax4)=plt.subplots(ncols=2,figsize=(20,5))\n",
    "\n",
    "ax3.set_title('Pickup Time of Day')\n",
    "ax=sns.countplot(x=\"pickup_timeofday\",data=df,ax=ax3)\n",
    "\n",
    "ax4.set_title('Dropoff Time of Day')\n",
    "ax=sns.countplot(x=\"dropoff_timeofday\",data=df,ax=ax4)"
   ]
  },
  {
   "cell_type": "code",
   "execution_count": 43,
   "metadata": {},
   "outputs": [
    {
     "data": {
      "image/png": "[encoded data removed]",
      "text/plain": [
       "<Figure size 1440x360 with 2 Axes>"
      ]
     },
     "metadata": {
      "needs_background": "light"
     },
     "output_type": "display_data"
    }
   ],
   "source": [
    "figure,(ax11,ax12)=plt.subplots(ncols=2,figsize=(20,5))\n",
    "\n",
    "ax11.set_title('Pickup Month')\n",
    "ax=sns.countplot(x=\"pickup_month\",data=df,ax=ax11)\n",
    "\n",
    "ax12.set_title('Dropoff Month')\n",
    "ax=sns.countplot(x=\"dropoff_month\",data=df,ax=ax12)"
   ]
  },
  {
   "cell_type": "code",
   "execution_count": 44,
   "metadata": {},
   "outputs": [
    {
     "name": "stdout",
     "output_type": "stream",
     "text": [
      "<class 'pandas.core.frame.DataFrame'>\n",
      "Int64Index: 28453 entries, 0 to 28453\n",
      "Data columns (total 34 columns):\n",
      " #   Column                 Non-Null Count  Dtype         \n",
      "---  ------                 --------------  -----         \n",
      " 0   VendorID               28453 non-null  int64         \n",
      " 1   tpep_pickup_datetime   28453 non-null  datetime64[ns]\n",
      " 2   tpep_dropoff_datetime  28453 non-null  datetime64[ns]\n",
      " 3   passenger_count        28453 non-null  int64         \n",
      " 4   trip_distance          28453 non-null  float64       \n",
      " 5   pickup_longitude       28453 non-null  float64       \n",
      " 6   pickup_latitude        28453 non-null  float64       \n",
      " 7   RatecodeID             28453 non-null  int64         \n",
      " 8   store_and_fwd_flag     28453 non-null  object        \n",
      " 9   dropoff_longitude      28453 non-null  float64       \n",
      " 10  dropoff_latitude       28453 non-null  float64       \n",
      " 11  payment_type           28453 non-null  int64         \n",
      " 12  fare_amount            28453 non-null  float64       \n",
      " 13  extra                  28453 non-null  float64       \n",
      " 14  mta_tax                28453 non-null  float64       \n",
      " 15  tip_amount             28453 non-null  float64       \n",
      " 16  tolls_amount           28453 non-null  float64       \n",
      " 17  improvement_surcharge  28453 non-null  float64       \n",
      " 18  total_amount           28453 non-null  float64       \n",
      " 19  GoodTip                28453 non-null  bool          \n",
      " 20  Extra                  28453 non-null  bool          \n",
      " 21  Cash                   28453 non-null  bool          \n",
      " 22  pickup_day             28453 non-null  object        \n",
      " 23  dropoff_day            28453 non-null  object        \n",
      " 24  pickup_day_no          28453 non-null  int64         \n",
      " 25  dropoff_day_no         28453 non-null  int64         \n",
      " 26  pickup_hour            28453 non-null  int64         \n",
      " 27  dropoff_hour           28453 non-null  int64         \n",
      " 28  pickup_min             28453 non-null  int64         \n",
      " 29  dropoff_min            28453 non-null  int64         \n",
      " 30  pickup_month           28453 non-null  int64         \n",
      " 31  dropoff_month          28453 non-null  int64         \n",
      " 32  pickup_timeofday       28453 non-null  object        \n",
      " 33  dropoff_timeofday      28453 non-null  object        \n",
      "dtypes: bool(3), datetime64[ns](2), float64(12), int64(12), object(5)\n",
      "memory usage: 8.0+ MB\n"
     ]
    }
   ],
   "source": [
    "df.info()"
   ]
  },
  {
   "cell_type": "code",
   "execution_count": 45,
   "metadata": {},
   "outputs": [
    {
     "data": {
      "text/html": [
       "<div>\n",
       "<style scoped>\n",
       "    .dataframe tbody tr th:only-of-type {\n",
       "        vertical-align: middle;\n",
       "    }\n",
       "\n",
       "    .dataframe tbody tr th {\n",
       "        vertical-align: top;\n",
       "    }\n",
       "\n",
       "    .dataframe thead th {\n",
       "        text-align: right;\n",
       "    }\n",
       "</style>\n",
       "<table border=\"1\" class=\"dataframe\">\n",
       "  <thead>\n",
       "    <tr style=\"text-align: right;\">\n",
       "      <th></th>\n",
       "      <th>VendorID</th>\n",
       "      <th>passenger_count</th>\n",
       "      <th>trip_distance</th>\n",
       "      <th>pickup_longitude</th>\n",
       "      <th>pickup_latitude</th>\n",
       "      <th>RatecodeID</th>\n",
       "      <th>dropoff_longitude</th>\n",
       "      <th>dropoff_latitude</th>\n",
       "      <th>payment_type</th>\n",
       "      <th>fare_amount</th>\n",
       "      <th>...</th>\n",
       "      <th>improvement_surcharge</th>\n",
       "      <th>total_amount</th>\n",
       "      <th>pickup_day_no</th>\n",
       "      <th>dropoff_day_no</th>\n",
       "      <th>pickup_hour</th>\n",
       "      <th>dropoff_hour</th>\n",
       "      <th>pickup_min</th>\n",
       "      <th>dropoff_min</th>\n",
       "      <th>pickup_month</th>\n",
       "      <th>dropoff_month</th>\n",
       "    </tr>\n",
       "  </thead>\n",
       "  <tbody>\n",
       "    <tr>\n",
       "      <th>count</th>\n",
       "      <td>28453.000000</td>\n",
       "      <td>28453.000000</td>\n",
       "      <td>28453.000000</td>\n",
       "      <td>28453.000000</td>\n",
       "      <td>28453.000000</td>\n",
       "      <td>28453.000000</td>\n",
       "      <td>28453.000000</td>\n",
       "      <td>28453.000000</td>\n",
       "      <td>28453.000000</td>\n",
       "      <td>28453.000000</td>\n",
       "      <td>...</td>\n",
       "      <td>28453.000000</td>\n",
       "      <td>28453.000000</td>\n",
       "      <td>28453.000000</td>\n",
       "      <td>28453.000000</td>\n",
       "      <td>28453.000000</td>\n",
       "      <td>28453.000000</td>\n",
       "      <td>28453.000000</td>\n",
       "      <td>28453.000000</td>\n",
       "      <td>28453.0</td>\n",
       "      <td>28453.000000</td>\n",
       "    </tr>\n",
       "    <tr>\n",
       "      <th>mean</th>\n",
       "      <td>1.527045</td>\n",
       "      <td>1.641514</td>\n",
       "      <td>2.830338</td>\n",
       "      <td>-73.976078</td>\n",
       "      <td>40.751232</td>\n",
       "      <td>1.035286</td>\n",
       "      <td>-72.868094</td>\n",
       "      <td>40.141650</td>\n",
       "      <td>1.331143</td>\n",
       "      <td>12.346757</td>\n",
       "      <td>...</td>\n",
       "      <td>0.299652</td>\n",
       "      <td>15.515719</td>\n",
       "      <td>2.993779</td>\n",
       "      <td>2.999473</td>\n",
       "      <td>13.695884</td>\n",
       "      <td>13.689453</td>\n",
       "      <td>29.513724</td>\n",
       "      <td>29.411837</td>\n",
       "      <td>2.0</td>\n",
       "      <td>2.000281</td>\n",
       "    </tr>\n",
       "    <tr>\n",
       "      <th>std</th>\n",
       "      <td>0.499277</td>\n",
       "      <td>1.293435</td>\n",
       "      <td>3.617009</td>\n",
       "      <td>0.286554</td>\n",
       "      <td>0.033604</td>\n",
       "      <td>0.278486</td>\n",
       "      <td>8.988419</td>\n",
       "      <td>4.949229</td>\n",
       "      <td>0.486135</td>\n",
       "      <td>11.721427</td>\n",
       "      <td>...</td>\n",
       "      <td>0.013887</td>\n",
       "      <td>13.992643</td>\n",
       "      <td>1.997907</td>\n",
       "      <td>1.999253</td>\n",
       "      <td>6.326149</td>\n",
       "      <td>6.411670</td>\n",
       "      <td>17.287254</td>\n",
       "      <td>17.272522</td>\n",
       "      <td>0.0</td>\n",
       "      <td>0.016766</td>\n",
       "    </tr>\n",
       "    <tr>\n",
       "      <th>min</th>\n",
       "      <td>1.000000</td>\n",
       "      <td>1.000000</td>\n",
       "      <td>0.000000</td>\n",
       "      <td>-121.933220</td>\n",
       "      <td>37.389397</td>\n",
       "      <td>1.000000</td>\n",
       "      <td>-121.933342</td>\n",
       "      <td>0.000000</td>\n",
       "      <td>1.000000</td>\n",
       "      <td>-93.000000</td>\n",
       "      <td>...</td>\n",
       "      <td>-0.300000</td>\n",
       "      <td>-93.300000</td>\n",
       "      <td>0.000000</td>\n",
       "      <td>0.000000</td>\n",
       "      <td>0.000000</td>\n",
       "      <td>0.000000</td>\n",
       "      <td>0.000000</td>\n",
       "      <td>0.000000</td>\n",
       "      <td>2.0</td>\n",
       "      <td>2.000000</td>\n",
       "    </tr>\n",
       "    <tr>\n",
       "      <th>25%</th>\n",
       "      <td>1.000000</td>\n",
       "      <td>1.000000</td>\n",
       "      <td>1.000000</td>\n",
       "      <td>-73.991608</td>\n",
       "      <td>40.737820</td>\n",
       "      <td>1.000000</td>\n",
       "      <td>-73.991302</td>\n",
       "      <td>40.734543</td>\n",
       "      <td>1.000000</td>\n",
       "      <td>6.500000</td>\n",
       "      <td>...</td>\n",
       "      <td>0.300000</td>\n",
       "      <td>8.300000</td>\n",
       "      <td>1.000000</td>\n",
       "      <td>1.000000</td>\n",
       "      <td>9.000000</td>\n",
       "      <td>9.000000</td>\n",
       "      <td>15.000000</td>\n",
       "      <td>14.000000</td>\n",
       "      <td>2.0</td>\n",
       "      <td>2.000000</td>\n",
       "    </tr>\n",
       "    <tr>\n",
       "      <th>50%</th>\n",
       "      <td>2.000000</td>\n",
       "      <td>1.000000</td>\n",
       "      <td>1.660000</td>\n",
       "      <td>-73.981567</td>\n",
       "      <td>40.753609</td>\n",
       "      <td>1.000000</td>\n",
       "      <td>-73.979576</td>\n",
       "      <td>40.753632</td>\n",
       "      <td>1.000000</td>\n",
       "      <td>9.000000</td>\n",
       "      <td>...</td>\n",
       "      <td>0.300000</td>\n",
       "      <td>11.750000</td>\n",
       "      <td>3.000000</td>\n",
       "      <td>3.000000</td>\n",
       "      <td>14.000000</td>\n",
       "      <td>14.000000</td>\n",
       "      <td>29.000000</td>\n",
       "      <td>29.000000</td>\n",
       "      <td>2.0</td>\n",
       "      <td>2.000000</td>\n",
       "    </tr>\n",
       "    <tr>\n",
       "      <th>75%</th>\n",
       "      <td>2.000000</td>\n",
       "      <td>2.000000</td>\n",
       "      <td>3.070000</td>\n",
       "      <td>-73.967911</td>\n",
       "      <td>40.767979</td>\n",
       "      <td>1.000000</td>\n",
       "      <td>-73.962364</td>\n",
       "      <td>40.769409</td>\n",
       "      <td>2.000000</td>\n",
       "      <td>14.000000</td>\n",
       "      <td>...</td>\n",
       "      <td>0.300000</td>\n",
       "      <td>17.160000</td>\n",
       "      <td>5.000000</td>\n",
       "      <td>5.000000</td>\n",
       "      <td>19.000000</td>\n",
       "      <td>19.000000</td>\n",
       "      <td>45.000000</td>\n",
       "      <td>44.000000</td>\n",
       "      <td>2.0</td>\n",
       "      <td>2.000000</td>\n",
       "    </tr>\n",
       "    <tr>\n",
       "      <th>max</th>\n",
       "      <td>2.000000</td>\n",
       "      <td>6.000000</td>\n",
       "      <td>182.200000</td>\n",
       "      <td>-73.571777</td>\n",
       "      <td>40.934280</td>\n",
       "      <td>5.000000</td>\n",
       "      <td>0.000000</td>\n",
       "      <td>41.034912</td>\n",
       "      <td>4.000000</td>\n",
       "      <td>780.000000</td>\n",
       "      <td>...</td>\n",
       "      <td>0.300000</td>\n",
       "      <td>780.300000</td>\n",
       "      <td>6.000000</td>\n",
       "      <td>6.000000</td>\n",
       "      <td>23.000000</td>\n",
       "      <td>23.000000</td>\n",
       "      <td>59.000000</td>\n",
       "      <td>59.000000</td>\n",
       "      <td>2.0</td>\n",
       "      <td>3.000000</td>\n",
       "    </tr>\n",
       "  </tbody>\n",
       "</table>\n",
       "<p>8 rows × 24 columns</p>\n",
       "</div>"
      ],
      "text/plain": [
       "           VendorID  passenger_count  trip_distance  pickup_longitude  \\\n",
       "count  28453.000000     28453.000000   28453.000000      28453.000000   \n",
       "mean       1.527045         1.641514       2.830338        -73.976078   \n",
       "std        0.499277         1.293435       3.617009          0.286554   \n",
       "min        1.000000         1.000000       0.000000       -121.933220   \n",
       "25%        1.000000         1.000000       1.000000        -73.991608   \n",
       "50%        2.000000         1.000000       1.660000        -73.981567   \n",
       "75%        2.000000         2.000000       3.070000        -73.967911   \n",
       "max        2.000000         6.000000     182.200000        -73.571777   \n",
       "\n",
       "       pickup_latitude    RatecodeID  dropoff_longitude  dropoff_latitude  \\\n",
       "count     28453.000000  28453.000000       28453.000000      28453.000000   \n",
       "mean         40.751232      1.035286         -72.868094         40.141650   \n",
       "std           0.033604      0.278486           8.988419          4.949229   \n",
       "min          37.389397      1.000000        -121.933342          0.000000   \n",
       "25%          40.737820      1.000000         -73.991302         40.734543   \n",
       "50%          40.753609      1.000000         -73.979576         40.753632   \n",
       "75%          40.767979      1.000000         -73.962364         40.769409   \n",
       "max          40.934280      5.000000           0.000000         41.034912   \n",
       "\n",
       "       payment_type   fare_amount  ...  improvement_surcharge  total_amount  \\\n",
       "count  28453.000000  28453.000000  ...           28453.000000  28453.000000   \n",
       "mean       1.331143     12.346757  ...               0.299652     15.515719   \n",
       "std        0.486135     11.721427  ...               0.013887     13.992643   \n",
       "min        1.000000    -93.000000  ...              -0.300000    -93.300000   \n",
       "25%        1.000000      6.500000  ...               0.300000      8.300000   \n",
       "50%        1.000000      9.000000  ...               0.300000     11.750000   \n",
       "75%        2.000000     14.000000  ...               0.300000     17.160000   \n",
       "max        4.000000    780.000000  ...               0.300000    780.300000   \n",
       "\n",
       "       pickup_day_no  dropoff_day_no   pickup_hour  dropoff_hour  \\\n",
       "count   28453.000000    28453.000000  28453.000000  28453.000000   \n",
       "mean        2.993779        2.999473     13.695884     13.689453   \n",
       "std         1.997907        1.999253      6.326149      6.411670   \n",
       "min         0.000000        0.000000      0.000000      0.000000   \n",
       "25%         1.000000        1.000000      9.000000      9.000000   \n",
       "50%         3.000000        3.000000     14.000000     14.000000   \n",
       "75%         5.000000        5.000000     19.000000     19.000000   \n",
       "max         6.000000        6.000000     23.000000     23.000000   \n",
       "\n",
       "         pickup_min   dropoff_min  pickup_month  dropoff_month  \n",
       "count  28453.000000  28453.000000       28453.0   28453.000000  \n",
       "mean      29.513724     29.411837           2.0       2.000281  \n",
       "std       17.287254     17.272522           0.0       0.016766  \n",
       "min        0.000000      0.000000           2.0       2.000000  \n",
       "25%       15.000000     14.000000           2.0       2.000000  \n",
       "50%       29.000000     29.000000           2.0       2.000000  \n",
       "75%       45.000000     44.000000           2.0       2.000000  \n",
       "max       59.000000     59.000000           2.0       3.000000  \n",
       "\n",
       "[8 rows x 24 columns]"
      ]
     },
     "execution_count": 45,
     "metadata": {},
     "output_type": "execute_result"
    }
   ],
   "source": [
    "df.describe()"
   ]
  },
  {
   "cell_type": "code",
   "execution_count": 46,
   "metadata": {},
   "outputs": [],
   "source": [
    "# Dropping the null values.\n",
    "df = df.dropna()"
   ]
  },
  {
   "cell_type": "code",
   "execution_count": 47,
   "metadata": {},
   "outputs": [
    {
     "data": {
      "text/plain": [
       "Text(0, 0.5, 'Numbers')"
      ]
     },
     "execution_count": 47,
     "metadata": {},
     "output_type": "execute_result"
    },
    {
     "data": {
      "image/png": "[encoded data removed]",
      "text/plain": [
       "<Figure size 432x288 with 1 Axes>"
      ]
     },
     "metadata": {
      "needs_background": "light"
     },
     "output_type": "display_data"
    }
   ],
   "source": [
    "trip_dis=df['trip_distance']\n",
    "plt.hist(trip_dis)\n",
    "plt.title(\"Trip Distance Histgram\")\n",
    "plt.xlabel(\"Trip Distance\")\n",
    "plt.ylabel(\"Numbers\")"
   ]
  },
  {
   "cell_type": "code",
   "execution_count": 48,
   "metadata": {},
   "outputs": [
    {
     "data": {
      "text/plain": [
       "False"
      ]
     },
     "execution_count": 48,
     "metadata": {},
     "output_type": "execute_result"
    }
   ],
   "source": [
    "T_pick=pd.to_datetime(df['tpep_pickup_datetime'])\n",
    "T_drop=pd.to_datetime(df['tpep_dropoff_datetime'])\n",
    "T_delta=T_drop-T_pick\n",
    "# Split out the Hour .\n",
    "hour_pick=pd.DatetimeIndex(T_pick).hour #hour of pick up\n",
    "hour_drop=pd.DatetimeIndex(T_drop).hour #hour of drop off\n",
    "# Test if these two are the same\n",
    "hour_pick ==hour_drop #it's hard to tell if every single element is the samle\n",
    "(hour_pick ==hour_drop).all() #False."
   ]
  },
  {
   "cell_type": "code",
   "execution_count": 49,
   "metadata": {},
   "outputs": [],
   "source": [
    "df['hour_pick']=hour_pick\n",
    "df['hour_drop']=hour_drop\n",
    "#mean and median trip distance grouped by hour-pick'''\n",
    "mean_pick=df.groupby('hour_pick', as_index=False)['trip_distance'].mean()\n",
    "median_pick=df.groupby('hour_pick', as_index=False)['trip_distance'].median()\n",
    "# mean and median trip distance grouped by hour-drop'''\n",
    "mean_drop=df.groupby('hour_drop', as_index=False)['trip_distance'].mean()\n",
    "median_drop=df.groupby('hour_drop', as_index=False)['trip_distance'].median()"
   ]
  },
  {
   "cell_type": "code",
   "execution_count": 50,
   "metadata": {},
   "outputs": [
    {
     "data": {
      "text/plain": [
       "<matplotlib.legend.Legend at 0x2647c08ccd0>"
      ]
     },
     "execution_count": 50,
     "metadata": {},
     "output_type": "execute_result"
    },
    {
     "data": {
      "image/png": "[encoded data removed]",
      "text/plain": [
       "<Figure size 432x288 with 1 Axes>"
      ]
     },
     "metadata": {
      "needs_background": "light"
     },
     "output_type": "display_data"
    },
    {
     "data": {
      "image/png": "[encoded data removed]",
      "text/plain": [
       "<Figure size 432x288 with 1 Axes>"
      ]
     },
     "metadata": {
      "needs_background": "light"
     },
     "output_type": "display_data"
    }
   ],
   "source": [
    "m1=[mean_pick['trip_distance'],median_pick['trip_distance']]\n",
    "plt.boxplot(m1)\n",
    "plt.xticks([1, 2],['Mean', 'Median'])\n",
    "plt.ylabel('(Pickup) Trip Distance')\n",
    "#Plot the mean and median\n",
    "plt.figure(3)\n",
    "plt.plot(mean_pick['hour_pick'],mean_pick['trip_distance'],'bs--', label='Mean trip distance')\n",
    "plt.plot(median_pick['hour_pick'],median_pick['trip_distance'], 'r^--', label='Median trip distance')\n",
    "plt.title(\"Pickup Trip Distance vs. Hour of Day\")\n",
    "plt.xlabel(\"Hour of Day\")\n",
    "plt.ylabel(\"trip_distance Distance\")\n",
    "plt.legend(loc='best',fontsize=16)"
   ]
  },
  {
   "cell_type": "code",
   "execution_count": 51,
   "metadata": {},
   "outputs": [
    {
     "ename": "KeyError",
     "evalue": "'Trip_distance'",
     "output_type": "error",
     "traceback": [
      "\u001b[1;31m---------------------------------------------------------------------------\u001b[0m",
      "\u001b[1;31mKeyError\u001b[0m                                  Traceback (most recent call last)",
      "\u001b[1;32mc:\\Users\\admin\\anaconda3\\lib\\site-packages\\pandas\\core\\indexes\\base.py\u001b[0m in \u001b[0;36mget_loc\u001b[1;34m(self, key, method, tolerance)\u001b[0m\n\u001b[0;32m   3079\u001b[0m             \u001b[1;32mtry\u001b[0m\u001b[1;33m:\u001b[0m\u001b[1;33m\u001b[0m\u001b[1;33m\u001b[0m\u001b[0m\n\u001b[1;32m-> 3080\u001b[1;33m                 \u001b[1;32mreturn\u001b[0m \u001b[0mself\u001b[0m\u001b[1;33m.\u001b[0m\u001b[0m_engine\u001b[0m\u001b[1;33m.\u001b[0m\u001b[0mget_loc\u001b[0m\u001b[1;33m(\u001b[0m\u001b[0mcasted_key\u001b[0m\u001b[1;33m)\u001b[0m\u001b[1;33m\u001b[0m\u001b[1;33m\u001b[0m\u001b[0m\n\u001b[0m\u001b[0;32m   3081\u001b[0m             \u001b[1;32mexcept\u001b[0m \u001b[0mKeyError\u001b[0m \u001b[1;32mas\u001b[0m \u001b[0merr\u001b[0m\u001b[1;33m:\u001b[0m\u001b[1;33m\u001b[0m\u001b[1;33m\u001b[0m\u001b[0m\n",
      "\u001b[1;32mpandas\\_libs\\index.pyx\u001b[0m in \u001b[0;36mpandas._libs.index.IndexEngine.get_loc\u001b[1;34m()\u001b[0m\n",
      "\u001b[1;32mpandas\\_libs\\index.pyx\u001b[0m in \u001b[0;36mpandas._libs.index.IndexEngine.get_loc\u001b[1;34m()\u001b[0m\n",
      "\u001b[1;32mpandas\\_libs\\hashtable_class_helper.pxi\u001b[0m in \u001b[0;36mpandas._libs.hashtable.PyObjectHashTable.get_item\u001b[1;34m()\u001b[0m\n",
      "\u001b[1;32mpandas\\_libs\\hashtable_class_helper.pxi\u001b[0m in \u001b[0;36mpandas._libs.hashtable.PyObjectHashTable.get_item\u001b[1;34m()\u001b[0m\n",
      "\u001b[1;31mKeyError\u001b[0m: 'Trip_distance'",
      "\nThe above exception was the direct cause of the following exception:\n",
      "\u001b[1;31mKeyError\u001b[0m                                  Traceback (most recent call last)",
      "\u001b[1;32m<ipython-input-51-6aacfc17929c>\u001b[0m in \u001b[0;36m<module>\u001b[1;34m\u001b[0m\n\u001b[1;32m----> 1\u001b[1;33m \u001b[0mm2\u001b[0m\u001b[1;33m=\u001b[0m\u001b[1;33m[\u001b[0m\u001b[0mmean_drop\u001b[0m\u001b[1;33m[\u001b[0m\u001b[1;34m'Trip_distance'\u001b[0m\u001b[1;33m]\u001b[0m\u001b[1;33m,\u001b[0m\u001b[0mmedian_drop\u001b[0m\u001b[1;33m[\u001b[0m\u001b[1;34m'Trip_distance'\u001b[0m\u001b[1;33m]\u001b[0m\u001b[1;33m]\u001b[0m\u001b[1;33m\u001b[0m\u001b[1;33m\u001b[0m\u001b[0m\n\u001b[0m\u001b[0;32m      2\u001b[0m \u001b[0mplt\u001b[0m\u001b[1;33m.\u001b[0m\u001b[0mboxplot\u001b[0m\u001b[1;33m(\u001b[0m\u001b[0mm\u001b[0m\u001b[1;33m)\u001b[0m\u001b[1;33m\u001b[0m\u001b[1;33m\u001b[0m\u001b[0m\n\u001b[0;32m      3\u001b[0m \u001b[0mplt\u001b[0m\u001b[1;33m.\u001b[0m\u001b[0mxticks\u001b[0m\u001b[1;33m(\u001b[0m\u001b[1;33m[\u001b[0m\u001b[1;36m1\u001b[0m\u001b[1;33m,\u001b[0m \u001b[1;36m2\u001b[0m\u001b[1;33m]\u001b[0m\u001b[1;33m,\u001b[0m\u001b[1;33m[\u001b[0m\u001b[1;34m'Mean'\u001b[0m\u001b[1;33m,\u001b[0m \u001b[1;34m'Median'\u001b[0m\u001b[1;33m]\u001b[0m\u001b[1;33m)\u001b[0m\u001b[1;33m\u001b[0m\u001b[1;33m\u001b[0m\u001b[0m\n\u001b[0;32m      4\u001b[0m \u001b[0mplt\u001b[0m\u001b[1;33m.\u001b[0m\u001b[0mylabel\u001b[0m\u001b[1;33m(\u001b[0m\u001b[1;34m'(Drop-off) Trip Distance'\u001b[0m\u001b[1;33m)\u001b[0m\u001b[1;33m\u001b[0m\u001b[1;33m\u001b[0m\u001b[0m\n\u001b[0;32m      5\u001b[0m \u001b[1;31m#Plot the mean and median for drop-off hour\u001b[0m\u001b[1;33m\u001b[0m\u001b[1;33m\u001b[0m\u001b[1;33m\u001b[0m\u001b[0m\n",
      "\u001b[1;32mc:\\Users\\admin\\anaconda3\\lib\\site-packages\\pandas\\core\\frame.py\u001b[0m in \u001b[0;36m__getitem__\u001b[1;34m(self, key)\u001b[0m\n\u001b[0;32m   3022\u001b[0m             \u001b[1;32mif\u001b[0m \u001b[0mself\u001b[0m\u001b[1;33m.\u001b[0m\u001b[0mcolumns\u001b[0m\u001b[1;33m.\u001b[0m\u001b[0mnlevels\u001b[0m \u001b[1;33m>\u001b[0m \u001b[1;36m1\u001b[0m\u001b[1;33m:\u001b[0m\u001b[1;33m\u001b[0m\u001b[1;33m\u001b[0m\u001b[0m\n\u001b[0;32m   3023\u001b[0m                 \u001b[1;32mreturn\u001b[0m \u001b[0mself\u001b[0m\u001b[1;33m.\u001b[0m\u001b[0m_getitem_multilevel\u001b[0m\u001b[1;33m(\u001b[0m\u001b[0mkey\u001b[0m\u001b[1;33m)\u001b[0m\u001b[1;33m\u001b[0m\u001b[1;33m\u001b[0m\u001b[0m\n\u001b[1;32m-> 3024\u001b[1;33m             \u001b[0mindexer\u001b[0m \u001b[1;33m=\u001b[0m \u001b[0mself\u001b[0m\u001b[1;33m.\u001b[0m\u001b[0mcolumns\u001b[0m\u001b[1;33m.\u001b[0m\u001b[0mget_loc\u001b[0m\u001b[1;33m(\u001b[0m\u001b[0mkey\u001b[0m\u001b[1;33m)\u001b[0m\u001b[1;33m\u001b[0m\u001b[1;33m\u001b[0m\u001b[0m\n\u001b[0m\u001b[0;32m   3025\u001b[0m             \u001b[1;32mif\u001b[0m \u001b[0mis_integer\u001b[0m\u001b[1;33m(\u001b[0m\u001b[0mindexer\u001b[0m\u001b[1;33m)\u001b[0m\u001b[1;33m:\u001b[0m\u001b[1;33m\u001b[0m\u001b[1;33m\u001b[0m\u001b[0m\n\u001b[0;32m   3026\u001b[0m                 \u001b[0mindexer\u001b[0m \u001b[1;33m=\u001b[0m \u001b[1;33m[\u001b[0m\u001b[0mindexer\u001b[0m\u001b[1;33m]\u001b[0m\u001b[1;33m\u001b[0m\u001b[1;33m\u001b[0m\u001b[0m\n",
      "\u001b[1;32mc:\\Users\\admin\\anaconda3\\lib\\site-packages\\pandas\\core\\indexes\\base.py\u001b[0m in \u001b[0;36mget_loc\u001b[1;34m(self, key, method, tolerance)\u001b[0m\n\u001b[0;32m   3080\u001b[0m                 \u001b[1;32mreturn\u001b[0m \u001b[0mself\u001b[0m\u001b[1;33m.\u001b[0m\u001b[0m_engine\u001b[0m\u001b[1;33m.\u001b[0m\u001b[0mget_loc\u001b[0m\u001b[1;33m(\u001b[0m\u001b[0mcasted_key\u001b[0m\u001b[1;33m)\u001b[0m\u001b[1;33m\u001b[0m\u001b[1;33m\u001b[0m\u001b[0m\n\u001b[0;32m   3081\u001b[0m             \u001b[1;32mexcept\u001b[0m \u001b[0mKeyError\u001b[0m \u001b[1;32mas\u001b[0m \u001b[0merr\u001b[0m\u001b[1;33m:\u001b[0m\u001b[1;33m\u001b[0m\u001b[1;33m\u001b[0m\u001b[0m\n\u001b[1;32m-> 3082\u001b[1;33m                 \u001b[1;32mraise\u001b[0m \u001b[0mKeyError\u001b[0m\u001b[1;33m(\u001b[0m\u001b[0mkey\u001b[0m\u001b[1;33m)\u001b[0m \u001b[1;32mfrom\u001b[0m \u001b[0merr\u001b[0m\u001b[1;33m\u001b[0m\u001b[1;33m\u001b[0m\u001b[0m\n\u001b[0m\u001b[0;32m   3083\u001b[0m \u001b[1;33m\u001b[0m\u001b[0m\n\u001b[0;32m   3084\u001b[0m         \u001b[1;32mif\u001b[0m \u001b[0mtolerance\u001b[0m \u001b[1;32mis\u001b[0m \u001b[1;32mnot\u001b[0m \u001b[1;32mNone\u001b[0m\u001b[1;33m:\u001b[0m\u001b[1;33m\u001b[0m\u001b[1;33m\u001b[0m\u001b[0m\n",
      "\u001b[1;31mKeyError\u001b[0m: 'Trip_distance'"
     ]
    }
   ],
   "source": [
    "m2=[mean_drop['Trip_distance'],median_drop['Trip_distance']]\n",
    "plt.boxplot(m)\n",
    "plt.xticks([1, 2],['Mean', 'Median'])\n",
    "plt.ylabel('(Drop-off) Trip Distance')\n",
    "#Plot the mean and median for drop-off hour\n",
    "plt.figure(4)\n",
    "plt.plot(mean_drop['hour_drop'],mean_drop['Trip_distance'],'bs--', label='Mean trip distance')\n",
    "plt.plot(median_drop['hour_drop'],median_drop['Trip_distance'], 'r^--', label='Median trip distance')\n",
    "plt.title(\"Drop-off Trip Distance vs. Hour of Day\")\n",
    "plt.xlabel(\"Hour of Day\")\n",
    "plt.ylabel(\"(Drop-off)Trip Distance\")\n",
    "plt.legend(loc='best',fontsize=16)"
   ]
  },
  {
   "cell_type": "code",
   "execution_count": null,
   "metadata": {},
   "outputs": [],
   "source": [
    "outlier_locations = df[((df.pickup_longitude <= -74.15) | (df.pickup_latitude <= 40.5774)| \\\n",
    "(df.pickup_longitude >= -73.7004) | (df.pickup_latitude >= 40.9176))]"
   ]
  },
  {
   "cell_type": "code",
   "execution_count": null,
   "metadata": {},
   "outputs": [
    {
     "data": {
      "text/plain": [
       "448"
      ]
     },
     "execution_count": 82,
     "metadata": {},
     "output_type": "execute_result"
    }
   ],
   "source": [
    "len(outlier_locations)"
   ]
  },
  {
   "cell_type": "code",
   "execution_count": null,
   "metadata": {},
   "outputs": [
    {
     "ename": "NameError",
     "evalue": "name 'folium' is not defined",
     "output_type": "error",
     "traceback": [
      "\u001b[1;31m---------------------------------------------------------------------------\u001b[0m",
      "\u001b[1;31mNameError\u001b[0m                                 Traceback (most recent call last)",
      "\u001b[1;32m<ipython-input-1-ac36c8ce694c>\u001b[0m in \u001b[0;36m<module>\u001b[1;34m\u001b[0m\n\u001b[1;32m----> 1\u001b[1;33m \u001b[0mmap_osm\u001b[0m \u001b[1;33m=\u001b[0m \u001b[0mfolium\u001b[0m\u001b[1;33m.\u001b[0m\u001b[0mMap\u001b[0m\u001b[1;33m(\u001b[0m\u001b[0mlocation\u001b[0m\u001b[1;33m=\u001b[0m\u001b[1;33m[\u001b[0m\u001b[1;36m40.734695\u001b[0m\u001b[1;33m,\u001b[0m \u001b[1;33m-\u001b[0m\u001b[1;36m73.990372\u001b[0m\u001b[1;33m]\u001b[0m \u001b[1;33m)\u001b[0m\u001b[1;33m\u001b[0m\u001b[1;33m\u001b[0m\u001b[0m\n\u001b[0m\u001b[0;32m      2\u001b[0m \u001b[0msample_locations\u001b[0m \u001b[1;33m=\u001b[0m \u001b[0moutlier_locations\u001b[0m\u001b[1;33m\u001b[0m\u001b[1;33m\u001b[0m\u001b[0m\n\u001b[0;32m      3\u001b[0m \u001b[1;32mfor\u001b[0m \u001b[0mi\u001b[0m\u001b[1;33m,\u001b[0m\u001b[0mj\u001b[0m \u001b[1;32min\u001b[0m \u001b[0msample_locations\u001b[0m\u001b[1;33m.\u001b[0m\u001b[0miterrows\u001b[0m\u001b[1;33m(\u001b[0m\u001b[1;33m)\u001b[0m\u001b[1;33m:\u001b[0m\u001b[1;33m\u001b[0m\u001b[1;33m\u001b[0m\u001b[0m\n\u001b[0;32m      4\u001b[0m     \u001b[1;32mif\u001b[0m \u001b[0mint\u001b[0m\u001b[1;33m(\u001b[0m\u001b[0mj\u001b[0m\u001b[1;33m[\u001b[0m\u001b[1;34m'pickup_latitude'\u001b[0m\u001b[1;33m]\u001b[0m\u001b[1;33m)\u001b[0m \u001b[1;33m!=\u001b[0m \u001b[1;36m0\u001b[0m\u001b[1;33m:\u001b[0m\u001b[1;33m\u001b[0m\u001b[1;33m\u001b[0m\u001b[0m\n\u001b[0;32m      5\u001b[0m         \u001b[0mfolium\u001b[0m\u001b[1;33m.\u001b[0m\u001b[0mMarker\u001b[0m\u001b[1;33m(\u001b[0m\u001b[0mlist\u001b[0m\u001b[1;33m(\u001b[0m\u001b[1;33m(\u001b[0m\u001b[0mj\u001b[0m\u001b[1;33m[\u001b[0m\u001b[1;34m'pickup_latitude'\u001b[0m\u001b[1;33m]\u001b[0m\u001b[1;33m,\u001b[0m\u001b[0mj\u001b[0m\u001b[1;33m[\u001b[0m\u001b[1;34m'pickup_longitude'\u001b[0m\u001b[1;33m]\u001b[0m\u001b[1;33m)\u001b[0m\u001b[1;33m)\u001b[0m\u001b[1;33m)\u001b[0m\u001b[1;33m.\u001b[0m\u001b[0madd_to\u001b[0m\u001b[1;33m(\u001b[0m\u001b[0mmap_osm\u001b[0m\u001b[1;33m)\u001b[0m\u001b[1;33m\u001b[0m\u001b[1;33m\u001b[0m\u001b[0m\n",
      "\u001b[1;31mNameError\u001b[0m: name 'folium' is not defined"
     ]
    }
   ],
   "source": [
    "map_osm = folium.Map(location=[40.734695, -73.990372] )\n",
    "sample_locations = outlier_locations\n",
    "for i,j in sample_locations.iterrows():\n",
    "    if int(j['pickup_latitude']) != 0:\n",
    "        folium.Marker(list((j['pickup_latitude'],j['pickup_longitude']))).add_to(map_osm)\n",
    "#map_osm"
   ]
  },
  {
   "attachments": {},
   "cell_type": "markdown",
   "metadata": {},
   "source": [
    "## model building"
   ]
  },
  {
   "cell_type": "code",
   "execution_count": 2,
   "metadata": {},
   "outputs": [
    {
     "ename": "NameError",
     "evalue": "name 'data' is not defined",
     "output_type": "error",
     "traceback": [
      "\u001b[1;31m---------------------------------------------------------------------------\u001b[0m",
      "\u001b[1;31mNameError\u001b[0m                                 Traceback (most recent call last)",
      "Cell \u001b[1;32mIn [2], line 3\u001b[0m\n\u001b[0;32m      1\u001b[0m features \u001b[39m=\u001b[39m [\u001b[39m'\u001b[39m\u001b[39mtrip_distance\u001b[39m\u001b[39m'\u001b[39m,\u001b[39m'\u001b[39m\u001b[39mfare_amount\u001b[39m\u001b[39m'\u001b[39m,\u001b[39m'\u001b[39m\u001b[39mtotal_amount\u001b[39m\u001b[39m'\u001b[39m]\n\u001b[0;32m      2\u001b[0m \u001b[39mfor\u001b[39;00m variable \u001b[39min\u001b[39;00m features:\n\u001b[1;32m----> 3\u001b[0m    dummies \u001b[39m=\u001b[39m pd\u001b[39m.\u001b[39mget_dummies(data[features], prefix \u001b[39m=\u001b[39mvariable)\n\u001b[0;32m      4\u001b[0m    df1 \u001b[39m=\u001b[39m pd\u001b[39m.\u001b[39mconcat([data,dummies],axis\u001b[39m=\u001b[39m\u001b[39m1\u001b[39m)\n\u001b[0;32m      5\u001b[0m    df1\u001b[39m.\u001b[39mdrop([variable],axis\u001b[39m=\u001b[39m\u001b[39m1\u001b[39m, inplace\u001b[39m=\u001b[39m\u001b[39mTrue\u001b[39;00m)\n",
      "\u001b[1;31mNameError\u001b[0m: name 'data' is not defined"
     ]
    }
   ],
   "source": [
    "features = ['trip_distance','fare_amount','total_amount']\n",
    "for variable in features:\n",
    "   dummies = pd.get_dummies(data[features], prefix =variable)\n",
    "   df1 = pd.concat([data,dummies],axis=1)\n",
    "   df1.drop([variable],axis=1, inplace=True)\n",
    "\n",
    "tip = df1[['tip_amount']]\n",
    "\n",
    "df2 = df1.drop(['tip_amount'], axis=1)"
   ]
  },
  {
   "cell_type": "code",
   "execution_count": null,
   "metadata": {},
   "outputs": [],
   "source": [
    "X_train,X_test,y_train,y_test = train_test_split(x,y,test_size=0.2,random_state=20)"
   ]
  },
  {
   "cell_type": "code",
   "execution_count": null,
   "metadata": {},
   "outputs": [],
   "source": [
    "lr = LinearRegression()\n",
    "lr.fit(X_train,y_train)\n",
    "y_test_pred = lr.predict(X_test)\n",
    "print(\"RMSE for test: %.2f\" %lr.score(X_test, y_test))"
   ]
  },
  {
   "cell_type": "code",
   "execution_count": null,
   "metadata": {},
   "outputs": [],
   "source": [
    "DT = DecisionTreeRegressor(random_state= 0)\n",
    "DT.fit (X_train, y_train)\n",
    "y_test_pred = DT.predict(X_test)\n",
    "print(\"RMSE for test: %.2f\" %DT.score(X_test, y_test))"
   ]
  },
  {
   "cell_type": "code",
   "execution_count": null,
   "metadata": {},
   "outputs": [],
   "source": [
    "rf = RandomForestRegressor(max_depth=5, random_state=0,n_estimators=10)\n",
    "rf.fit(X_train,y_train)\n",
    "y_test_pred = rf.predict(X_test)\n",
    "print(\"RMSE for test: %.2f\" %rf.score(X_test, y_test))"
   ]
  },
  {
   "cell_type": "code",
   "execution_count": null,
   "metadata": {},
   "outputs": [],
   "source": [
    "gbr= GBR(loss='ls', learning_rate=0.1, n_estimators=10, subsample=0.5,max_depth=5, verbose=1)\n",
    "gbr.fit(X_train,y_train)\n",
    "y_test_pred=gbr.predict(X_test)"
   ]
  },
  {
   "cell_type": "code",
   "execution_count": null,
   "metadata": {},
   "outputs": [],
   "source": [
    "print(\"RMSE for test: %.2f\" %gbr.score(X_test, y_test))"
   ]
  },
  {
   "cell_type": "code",
   "execution_count": null,
   "metadata": {},
   "outputs": [],
   "source": [
    "df2=df[['total_amount','fare_amount','tip_amount','trip_distance','pickup_longitude']]"
   ]
  },
  {
   "cell_type": "code",
   "execution_count": null,
   "metadata": {},
   "outputs": [],
   "source": [
    "x=df1.drop(['tip_amount'], axis=1)\n",
    "y = df['tip_amount']"
   ]
  }
 ],
 "metadata": {
  "kernelspec": {
   "display_name": "Python 3.9.13 64-bit",
   "language": "python",
   "name": "python3"
  },
  "language_info": {
   "codemirror_mode": {
    "name": "ipython",
    "version": 3
   },
   "file_extension": ".py",
   "mimetype": "text/x-python",
   "name": "python",
   "nbconvert_exporter": "python",
   "pygments_lexer": "ipython3",
   "version": "3.9.13 (tags/v3.9.13:6de2ca5, May 17 2022, 16:36:42) [MSC v.1929 64 bit (AMD64)]"
  },
  "orig_nbformat": 4,
  "vscode": {
   "interpreter": {
    "hash": "9b4d75ac280b6c7c3aa43866cb82dc88915409b55fec83a093dd0284cb58708e"
   }
  }
 },
 "nbformat": 4,
 "nbformat_minor": 2
}
